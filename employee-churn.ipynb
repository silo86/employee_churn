{
 "cells": [
  {
   "cell_type": "markdown",
   "id": "817fe4bc",
   "metadata": {},
   "source": [
    "Los datos pertenecen a un cliente que se encuentra interesado en anticipar que empleados se podrían llegar a ir de la compañía en base a datos históricos para tomar acciones de RRHH que le permitan mejorar la retención de sus empleados."
   ]
  },
  {
   "cell_type": "code",
   "execution_count": 1,
   "id": "556816cb",
   "metadata": {},
   "outputs": [],
   "source": [
    "import numpy as np\n",
    "import pandas as pd"
   ]
  },
  {
   "cell_type": "code",
   "execution_count": 2,
   "id": "3985975e",
   "metadata": {},
   "outputs": [
    {
     "data": {
      "text/html": [
       "<div>\n",
       "<style scoped>\n",
       "    .dataframe tbody tr th:only-of-type {\n",
       "        vertical-align: middle;\n",
       "    }\n",
       "\n",
       "    .dataframe tbody tr th {\n",
       "        vertical-align: top;\n",
       "    }\n",
       "\n",
       "    .dataframe thead th {\n",
       "        text-align: right;\n",
       "    }\n",
       "</style>\n",
       "<table border=\"1\" class=\"dataframe\">\n",
       "  <thead>\n",
       "    <tr style=\"text-align: right;\">\n",
       "      <th></th>\n",
       "      <th>ID</th>\n",
       "      <th>nivel_de_satisfaccion</th>\n",
       "      <th>ultima_evaluacion</th>\n",
       "      <th>cantidad_proyectos</th>\n",
       "      <th>promedio_horas_mensuales_trabajadas</th>\n",
       "      <th>años_en_la_empresa</th>\n",
       "      <th>tuvo_un_accidente_laboral</th>\n",
       "      <th>promociones_ultimos_5_anios</th>\n",
       "      <th>area</th>\n",
       "      <th>salario</th>\n",
       "      <th>se_fue</th>\n",
       "    </tr>\n",
       "  </thead>\n",
       "  <tbody>\n",
       "    <tr>\n",
       "      <th>0</th>\n",
       "      <td>2876.0</td>\n",
       "      <td>0.63</td>\n",
       "      <td>0.84</td>\n",
       "      <td>3</td>\n",
       "      <td>269</td>\n",
       "      <td>2</td>\n",
       "      <td>0</td>\n",
       "      <td>0</td>\n",
       "      <td>gestión de productos</td>\n",
       "      <td>bajo</td>\n",
       "      <td>no</td>\n",
       "    </tr>\n",
       "    <tr>\n",
       "      <th>1</th>\n",
       "      <td>7883.0</td>\n",
       "      <td>0.11</td>\n",
       "      <td>0.93</td>\n",
       "      <td>7</td>\n",
       "      <td>284</td>\n",
       "      <td>4</td>\n",
       "      <td>0</td>\n",
       "      <td>0</td>\n",
       "      <td>tecnica</td>\n",
       "      <td>bajo</td>\n",
       "      <td>si</td>\n",
       "    </tr>\n",
       "    <tr>\n",
       "      <th>2</th>\n",
       "      <td>4089.0</td>\n",
       "      <td>0.60</td>\n",
       "      <td>0.42</td>\n",
       "      <td>2</td>\n",
       "      <td>109</td>\n",
       "      <td>6</td>\n",
       "      <td>0</td>\n",
       "      <td>0</td>\n",
       "      <td>ventas</td>\n",
       "      <td>bajo</td>\n",
       "      <td>no</td>\n",
       "    </tr>\n",
       "    <tr>\n",
       "      <th>3</th>\n",
       "      <td>8828.0</td>\n",
       "      <td>0.38</td>\n",
       "      <td>0.49</td>\n",
       "      <td>4</td>\n",
       "      <td>196</td>\n",
       "      <td>3</td>\n",
       "      <td>0</td>\n",
       "      <td>1</td>\n",
       "      <td>dirección</td>\n",
       "      <td>alto</td>\n",
       "      <td>no</td>\n",
       "    </tr>\n",
       "    <tr>\n",
       "      <th>4</th>\n",
       "      <td>9401.0</td>\n",
       "      <td>0.11</td>\n",
       "      <td>0.83</td>\n",
       "      <td>6</td>\n",
       "      <td>244</td>\n",
       "      <td>4</td>\n",
       "      <td>0</td>\n",
       "      <td>0</td>\n",
       "      <td>contabilidad</td>\n",
       "      <td>bajo</td>\n",
       "      <td>si</td>\n",
       "    </tr>\n",
       "  </tbody>\n",
       "</table>\n",
       "</div>"
      ],
      "text/plain": [
       "       ID  nivel_de_satisfaccion  ultima_evaluacion  cantidad_proyectos  \\\n",
       "0  2876.0                   0.63               0.84                   3   \n",
       "1  7883.0                   0.11               0.93                   7   \n",
       "2  4089.0                   0.60               0.42                   2   \n",
       "3  8828.0                   0.38               0.49                   4   \n",
       "4  9401.0                   0.11               0.83                   6   \n",
       "\n",
       "   promedio_horas_mensuales_trabajadas  años_en_la_empresa  \\\n",
       "0                                  269                   2   \n",
       "1                                  284                   4   \n",
       "2                                  109                   6   \n",
       "3                                  196                   3   \n",
       "4                                  244                   4   \n",
       "\n",
       "   tuvo_un_accidente_laboral  promociones_ultimos_5_anios  \\\n",
       "0                          0                            0   \n",
       "1                          0                            0   \n",
       "2                          0                            0   \n",
       "3                          0                            1   \n",
       "4                          0                            0   \n",
       "\n",
       "                   area salario se_fue  \n",
       "0  gestión de productos    bajo     no  \n",
       "1               tecnica    bajo     si  \n",
       "2                ventas    bajo     no  \n",
       "3             dirección    alto     no  \n",
       "4          contabilidad    bajo     si  "
      ]
     },
     "execution_count": 2,
     "metadata": {},
     "output_type": "execute_result"
    }
   ],
   "source": [
    "df = pd.read_csv('train.csv')\n",
    "df.head()"
   ]
  },
  {
   "cell_type": "code",
   "execution_count": 3,
   "id": "78c4b1b0",
   "metadata": {},
   "outputs": [
    {
     "name": "stdout",
     "output_type": "stream",
     "text": [
      "<class 'pandas.core.frame.DataFrame'>\n",
      "RangeIndex: 8000 entries, 0 to 7999\n",
      "Data columns (total 11 columns):\n",
      " #   Column                               Non-Null Count  Dtype  \n",
      "---  ------                               --------------  -----  \n",
      " 0   ID                                   8000 non-null   float64\n",
      " 1   nivel_de_satisfaccion                8000 non-null   float64\n",
      " 2   ultima_evaluacion                    8000 non-null   float64\n",
      " 3   cantidad_proyectos                   8000 non-null   int64  \n",
      " 4   promedio_horas_mensuales_trabajadas  8000 non-null   int64  \n",
      " 5   años_en_la_empresa                   8000 non-null   int64  \n",
      " 6   tuvo_un_accidente_laboral            8000 non-null   int64  \n",
      " 7   promociones_ultimos_5_anios          8000 non-null   int64  \n",
      " 8   area                                 8000 non-null   object \n",
      " 9   salario                              8000 non-null   object \n",
      " 10  se_fue                               8000 non-null   object \n",
      "dtypes: float64(3), int64(5), object(3)\n",
      "memory usage: 687.6+ KB\n"
     ]
    }
   ],
   "source": [
    "df.info()"
   ]
  },
  {
   "cell_type": "code",
   "execution_count": 4,
   "id": "11cf43a3",
   "metadata": {},
   "outputs": [
    {
     "data": {
      "text/html": [
       "<div>\n",
       "<style scoped>\n",
       "    .dataframe tbody tr th:only-of-type {\n",
       "        vertical-align: middle;\n",
       "    }\n",
       "\n",
       "    .dataframe tbody tr th {\n",
       "        vertical-align: top;\n",
       "    }\n",
       "\n",
       "    .dataframe thead th {\n",
       "        text-align: right;\n",
       "    }\n",
       "</style>\n",
       "<table border=\"1\" class=\"dataframe\">\n",
       "  <thead>\n",
       "    <tr style=\"text-align: right;\">\n",
       "      <th></th>\n",
       "      <th>ID</th>\n",
       "      <th>nivel_de_satisfaccion</th>\n",
       "      <th>ultima_evaluacion</th>\n",
       "      <th>cantidad_proyectos</th>\n",
       "      <th>promedio_horas_mensuales_trabajadas</th>\n",
       "      <th>años_en_la_empresa</th>\n",
       "      <th>tuvo_un_accidente_laboral</th>\n",
       "      <th>promociones_ultimos_5_anios</th>\n",
       "    </tr>\n",
       "  </thead>\n",
       "  <tbody>\n",
       "    <tr>\n",
       "      <th>count</th>\n",
       "      <td>8000.000000</td>\n",
       "      <td>8000.000000</td>\n",
       "      <td>8000.000000</td>\n",
       "      <td>8000.000000</td>\n",
       "      <td>8000.000000</td>\n",
       "      <td>8000.000000</td>\n",
       "      <td>8000.000000</td>\n",
       "      <td>8000.000000</td>\n",
       "    </tr>\n",
       "    <tr>\n",
       "      <th>mean</th>\n",
       "      <td>5001.856375</td>\n",
       "      <td>0.611250</td>\n",
       "      <td>0.717285</td>\n",
       "      <td>3.802625</td>\n",
       "      <td>201.246125</td>\n",
       "      <td>3.495375</td>\n",
       "      <td>0.148750</td>\n",
       "      <td>0.022375</td>\n",
       "    </tr>\n",
       "    <tr>\n",
       "      <th>std</th>\n",
       "      <td>2879.555515</td>\n",
       "      <td>0.248972</td>\n",
       "      <td>0.171529</td>\n",
       "      <td>1.234447</td>\n",
       "      <td>50.055105</td>\n",
       "      <td>1.476483</td>\n",
       "      <td>0.355864</td>\n",
       "      <td>0.147909</td>\n",
       "    </tr>\n",
       "    <tr>\n",
       "      <th>min</th>\n",
       "      <td>1.000000</td>\n",
       "      <td>0.090000</td>\n",
       "      <td>0.360000</td>\n",
       "      <td>2.000000</td>\n",
       "      <td>96.000000</td>\n",
       "      <td>2.000000</td>\n",
       "      <td>0.000000</td>\n",
       "      <td>0.000000</td>\n",
       "    </tr>\n",
       "    <tr>\n",
       "      <th>25%</th>\n",
       "      <td>2513.500000</td>\n",
       "      <td>0.440000</td>\n",
       "      <td>0.560000</td>\n",
       "      <td>3.000000</td>\n",
       "      <td>156.000000</td>\n",
       "      <td>3.000000</td>\n",
       "      <td>0.000000</td>\n",
       "      <td>0.000000</td>\n",
       "    </tr>\n",
       "    <tr>\n",
       "      <th>50%</th>\n",
       "      <td>4994.500000</td>\n",
       "      <td>0.640000</td>\n",
       "      <td>0.720000</td>\n",
       "      <td>4.000000</td>\n",
       "      <td>201.000000</td>\n",
       "      <td>3.000000</td>\n",
       "      <td>0.000000</td>\n",
       "      <td>0.000000</td>\n",
       "    </tr>\n",
       "    <tr>\n",
       "      <th>75%</th>\n",
       "      <td>7498.250000</td>\n",
       "      <td>0.820000</td>\n",
       "      <td>0.870000</td>\n",
       "      <td>5.000000</td>\n",
       "      <td>245.000000</td>\n",
       "      <td>4.000000</td>\n",
       "      <td>0.000000</td>\n",
       "      <td>0.000000</td>\n",
       "    </tr>\n",
       "    <tr>\n",
       "      <th>max</th>\n",
       "      <td>10000.000000</td>\n",
       "      <td>1.000000</td>\n",
       "      <td>1.000000</td>\n",
       "      <td>7.000000</td>\n",
       "      <td>310.000000</td>\n",
       "      <td>10.000000</td>\n",
       "      <td>1.000000</td>\n",
       "      <td>1.000000</td>\n",
       "    </tr>\n",
       "  </tbody>\n",
       "</table>\n",
       "</div>"
      ],
      "text/plain": [
       "                 ID  nivel_de_satisfaccion  ultima_evaluacion  \\\n",
       "count   8000.000000            8000.000000        8000.000000   \n",
       "mean    5001.856375               0.611250           0.717285   \n",
       "std     2879.555515               0.248972           0.171529   \n",
       "min        1.000000               0.090000           0.360000   \n",
       "25%     2513.500000               0.440000           0.560000   \n",
       "50%     4994.500000               0.640000           0.720000   \n",
       "75%     7498.250000               0.820000           0.870000   \n",
       "max    10000.000000               1.000000           1.000000   \n",
       "\n",
       "       cantidad_proyectos  promedio_horas_mensuales_trabajadas  \\\n",
       "count         8000.000000                          8000.000000   \n",
       "mean             3.802625                           201.246125   \n",
       "std              1.234447                            50.055105   \n",
       "min              2.000000                            96.000000   \n",
       "25%              3.000000                           156.000000   \n",
       "50%              4.000000                           201.000000   \n",
       "75%              5.000000                           245.000000   \n",
       "max              7.000000                           310.000000   \n",
       "\n",
       "       años_en_la_empresa  tuvo_un_accidente_laboral  \\\n",
       "count         8000.000000                8000.000000   \n",
       "mean             3.495375                   0.148750   \n",
       "std              1.476483                   0.355864   \n",
       "min              2.000000                   0.000000   \n",
       "25%              3.000000                   0.000000   \n",
       "50%              3.000000                   0.000000   \n",
       "75%              4.000000                   0.000000   \n",
       "max             10.000000                   1.000000   \n",
       "\n",
       "       promociones_ultimos_5_anios  \n",
       "count                  8000.000000  \n",
       "mean                      0.022375  \n",
       "std                       0.147909  \n",
       "min                       0.000000  \n",
       "25%                       0.000000  \n",
       "50%                       0.000000  \n",
       "75%                       0.000000  \n",
       "max                       1.000000  "
      ]
     },
     "execution_count": 4,
     "metadata": {},
     "output_type": "execute_result"
    }
   ],
   "source": [
    "df.describe()"
   ]
  },
  {
   "cell_type": "code",
   "execution_count": 5,
   "id": "84cede6a",
   "metadata": {},
   "outputs": [
    {
     "data": {
      "text/plain": [
       "array(['gestión de productos', 'tecnica', 'ventas', 'dirección',\n",
       "       'contabilidad', 'ImásD', 'marketing', 'RRHH', 'soporte', 'TI'],\n",
       "      dtype=object)"
      ]
     },
     "execution_count": 5,
     "metadata": {},
     "output_type": "execute_result"
    }
   ],
   "source": [
    "df.area.unique()"
   ]
  },
  {
   "cell_type": "code",
   "execution_count": 6,
   "id": "bfe48e37",
   "metadata": {},
   "outputs": [
    {
     "data": {
      "text/plain": [
       "array(['bajo', 'alto', 'medio'], dtype=object)"
      ]
     },
     "execution_count": 6,
     "metadata": {},
     "output_type": "execute_result"
    }
   ],
   "source": [
    "df.salario.unique()"
   ]
  },
  {
   "cell_type": "code",
   "execution_count": 7,
   "id": "27b2e2bf",
   "metadata": {},
   "outputs": [
    {
     "data": {
      "text/plain": [
       "array(['no', 'si'], dtype=object)"
      ]
     },
     "execution_count": 7,
     "metadata": {},
     "output_type": "execute_result"
    }
   ],
   "source": [
    "df.se_fue.unique()"
   ]
  },
  {
   "cell_type": "code",
   "execution_count": 8,
   "id": "2c9e146e",
   "metadata": {},
   "outputs": [
    {
     "data": {
      "text/plain": [
       "ID                                     0\n",
       "nivel_de_satisfaccion                  0\n",
       "ultima_evaluacion                      0\n",
       "cantidad_proyectos                     0\n",
       "promedio_horas_mensuales_trabajadas    0\n",
       "años_en_la_empresa                     0\n",
       "tuvo_un_accidente_laboral              0\n",
       "promociones_ultimos_5_anios            0\n",
       "area                                   0\n",
       "salario                                0\n",
       "se_fue                                 0\n",
       "dtype: int64"
      ]
     },
     "execution_count": 8,
     "metadata": {},
     "output_type": "execute_result"
    }
   ],
   "source": [
    "df.isnull().sum()"
   ]
  },
  {
   "cell_type": "code",
   "execution_count": 9,
   "id": "ae122e27",
   "metadata": {},
   "outputs": [],
   "source": [
    "def get_positive_prop(feature):\n",
    "    ''' Obtiene la proporcion de los que se fueron por cada categoria'''\n",
    "    d ={}\n",
    "    for i,value in enumerate(df[feature].unique()):\n",
    "        p = len(df[(df[feature]==value) & (df['se_fue']=='si')])\n",
    "        n= len(df[(df[feature]==value) & (df['se_fue']=='no')])\n",
    "        value_prop= p/(p+n)\n",
    "        value_prop = round(value_prop*100,2)\n",
    "        d[f'{value}'] = value_prop\n",
    "    d = sorted(d.items(), key=lambda x: x[1], reverse=True)\n",
    "\n",
    "    for i in d:\n",
    "        print(f'{i[0]}: {i[1]}%')"
   ]
  },
  {
   "cell_type": "code",
   "execution_count": 10,
   "id": "faf35b96",
   "metadata": {},
   "outputs": [],
   "source": [
    "import matplotlib.pyplot as plt\n",
    "import seaborn as sns"
   ]
  },
  {
   "cell_type": "markdown",
   "id": "0d85e875",
   "metadata": {},
   "source": [
    "## Exploratory Data Analysis"
   ]
  },
  {
   "cell_type": "markdown",
   "id": "3deb3837",
   "metadata": {},
   "source": [
    "### Area vs Target"
   ]
  },
  {
   "cell_type": "code",
   "execution_count": 11,
   "id": "da7005c8",
   "metadata": {},
   "outputs": [
    {
     "data": {
      "text/plain": [
       "<AxesSubplot:xlabel='area', ylabel='count'>"
      ]
     },
     "execution_count": 11,
     "metadata": {},
     "output_type": "execute_result"
    },
    {
     "data": {
      "image/png": "[encoded data removed]",
      "text/plain": [
       "<Figure size 1008x288 with 1 Axes>"
      ]
     },
     "metadata": {
      "needs_background": "light"
     },
     "output_type": "display_data"
    }
   ],
   "source": [
    "fig_dims = (14, 4)\n",
    "fig, ax = plt.subplots(figsize=fig_dims)\n",
    "sns.countplot(x= df.area, hue = df.se_fue , ax=ax)"
   ]
  },
  {
   "cell_type": "code",
   "execution_count": 12,
   "id": "5f5e4a3d",
   "metadata": {},
   "outputs": [
    {
     "name": "stdout",
     "output_type": "stream",
     "text": [
      "RRHH: 26.57%\n",
      "tecnica: 25.86%\n",
      "marketing: 25.34%\n",
      "ventas: 24.69%\n",
      "soporte: 24.53%\n",
      "contabilidad: 24.05%\n",
      "gestión de productos: 21.34%\n",
      "TI: 21.18%\n",
      "ImásD: 15.31%\n",
      "dirección: 15.08%\n"
     ]
    }
   ],
   "source": [
    "get_positive_prop('area')"
   ]
  },
  {
   "cell_type": "markdown",
   "id": "5bc4c0a9",
   "metadata": {},
   "source": [
    "Los empleados que ocupan cargos de direccion son los menos propensos a irse en comparacion con el resto de los cargos"
   ]
  },
  {
   "cell_type": "markdown",
   "id": "31e04211",
   "metadata": {},
   "source": [
    "### Salario vs Target"
   ]
  },
  {
   "cell_type": "code",
   "execution_count": 13,
   "id": "c3cd8aec",
   "metadata": {},
   "outputs": [
    {
     "data": {
      "text/plain": [
       "<AxesSubplot:xlabel='salario', ylabel='count'>"
      ]
     },
     "execution_count": 13,
     "metadata": {},
     "output_type": "execute_result"
    },
    {
     "data": {
      "image/png": "[encoded data removed]",
      "text/plain": [
       "<Figure size 432x288 with 1 Axes>"
      ]
     },
     "metadata": {
      "needs_background": "light"
     },
     "output_type": "display_data"
    }
   ],
   "source": [
    "fig_dims = (6, 4)\n",
    "fig, ax = plt.subplots(figsize=fig_dims)\n",
    "sns.countplot(x= df.salario, hue = df.se_fue , ax=ax)"
   ]
  },
  {
   "cell_type": "code",
   "execution_count": 14,
   "id": "73010367",
   "metadata": {},
   "outputs": [
    {
     "name": "stdout",
     "output_type": "stream",
     "text": [
      "bajo: 29.71%\n",
      "medio: 19.84%\n",
      "alto: 7.03%\n"
     ]
    }
   ],
   "source": [
    "get_positive_prop('salario')"
   ]
  },
  {
   "cell_type": "markdown",
   "id": "2d3ac1e2",
   "metadata": {},
   "source": [
    "Los empleados con salarios bajos son los mas propensos a dejar la empresa con una proporcion de casi el 30% sobre el total de esa categoria"
   ]
  },
  {
   "cell_type": "markdown",
   "id": "80f8a7fa",
   "metadata": {},
   "source": [
    "### Promociones vs Target"
   ]
  },
  {
   "cell_type": "code",
   "execution_count": 15,
   "id": "a1c75768",
   "metadata": {},
   "outputs": [
    {
     "data": {
      "text/plain": [
       "<AxesSubplot:xlabel='promociones_ultimos_5_anios', ylabel='Count'>"
      ]
     },
     "execution_count": 15,
     "metadata": {},
     "output_type": "execute_result"
    },
    {
     "data": {
      "image/png": "[encoded data removed]",
      "text/plain": [
       "<Figure size 432x288 with 1 Axes>"
      ]
     },
     "metadata": {
      "needs_background": "light"
     },
     "output_type": "display_data"
    }
   ],
   "source": [
    "sns.histplot(binwidth=0.5, x=\"promociones_ultimos_5_anios\", hue=\"promociones_ultimos_5_anios\", data=df, stat='count')"
   ]
  },
  {
   "cell_type": "code",
   "execution_count": 16,
   "id": "17a4db89",
   "metadata": {},
   "outputs": [
    {
     "data": {
      "text/plain": [
       "0.022375"
      ]
     },
     "execution_count": 16,
     "metadata": {},
     "output_type": "execute_result"
    }
   ],
   "source": [
    "len(df.loc[df['promociones_ultimos_5_anios']==1])/len(df['promociones_ultimos_5_anios'])"
   ]
  },
  {
   "cell_type": "markdown",
   "id": "b70b1889",
   "metadata": {},
   "source": [
    "Solo el 2% de los empleados tienen promociones en los ultimos 5 anios"
   ]
  },
  {
   "cell_type": "code",
   "execution_count": 17,
   "id": "daaa9462",
   "metadata": {},
   "outputs": [
    {
     "data": {
      "text/plain": [
       "<AxesSubplot:xlabel='promociones_ultimos_5_anios', ylabel='count'>"
      ]
     },
     "execution_count": 17,
     "metadata": {},
     "output_type": "execute_result"
    },
    {
     "data": {
      "image/png": "[encoded data removed]",
      "text/plain": [
       "<Figure size 432x288 with 1 Axes>"
      ]
     },
     "metadata": {
      "needs_background": "light"
     },
     "output_type": "display_data"
    }
   ],
   "source": [
    "fig_dims = (6, 4)\n",
    "fig, ax = plt.subplots(figsize=fig_dims)\n",
    "sns.countplot(x= df.promociones_ultimos_5_anios, hue = df.se_fue , ax=ax)"
   ]
  },
  {
   "cell_type": "code",
   "execution_count": 18,
   "id": "c9267a5a",
   "metadata": {},
   "outputs": [
    {
     "name": "stdout",
     "output_type": "stream",
     "text": [
      "0: 24.01%\n",
      "1: 5.59%\n"
     ]
    }
   ],
   "source": [
    "get_positive_prop('promociones_ultimos_5_anios') "
   ]
  },
  {
   "cell_type": "markdown",
   "id": "7dce1c54",
   "metadata": {},
   "source": [
    "De los empleados con promociones en los ultimos 5 anios solo el 6% se fue"
   ]
  },
  {
   "cell_type": "markdown",
   "id": "c08a3167",
   "metadata": {},
   "source": [
    "### Accidentes vs Target"
   ]
  },
  {
   "cell_type": "code",
   "execution_count": 19,
   "id": "9a03319f",
   "metadata": {},
   "outputs": [
    {
     "data": {
      "text/plain": [
       "<AxesSubplot:xlabel='tuvo_un_accidente_laboral', ylabel='count'>"
      ]
     },
     "execution_count": 19,
     "metadata": {},
     "output_type": "execute_result"
    },
    {
     "data": {
      "image/png": "[encoded data removed]",
      "text/plain": [
       "<Figure size 432x288 with 1 Axes>"
      ]
     },
     "metadata": {
      "needs_background": "light"
     },
     "output_type": "display_data"
    }
   ],
   "source": [
    "fig_dims = (6, 4)\n",
    "fig, ax = plt.subplots(figsize=fig_dims)\n",
    "sns.countplot(x= df.tuvo_un_accidente_laboral, hue = df.se_fue , ax=ax)"
   ]
  },
  {
   "cell_type": "code",
   "execution_count": 20,
   "id": "fde0c6c8",
   "metadata": {},
   "outputs": [
    {
     "name": "stdout",
     "output_type": "stream",
     "text": [
      "0: 26.43%\n",
      "1: 7.39%\n"
     ]
    }
   ],
   "source": [
    "get_positive_prop('tuvo_un_accidente_laboral')"
   ]
  },
  {
   "cell_type": "code",
   "execution_count": 21,
   "id": "1c10c2ca",
   "metadata": {},
   "outputs": [
    {
     "name": "stderr",
     "output_type": "stream",
     "text": [
      "<ipython-input-21-cce6a39cc350>:1: FutureWarning: In a future version of pandas all arguments of DataFrame.drop except for the argument 'labels' will be keyword-only\n",
      "  sns.heatmap(df.drop('ID',1).corr(),annot=True)\n"
     ]
    },
    {
     "data": {
      "text/plain": [
       "<AxesSubplot:>"
      ]
     },
     "execution_count": 21,
     "metadata": {},
     "output_type": "execute_result"
    },
    {
     "data": {
      "image/png": "[encoded data removed]",
      "text/plain": [
       "<Figure size 432x288 with 2 Axes>"
      ]
     },
     "metadata": {
      "needs_background": "light"
     },
     "output_type": "display_data"
    }
   ],
   "source": [
    "sns.heatmap(df.drop('ID',1).corr(),annot=True)"
   ]
  },
  {
   "cell_type": "markdown",
   "id": "db46781a",
   "metadata": {},
   "source": [
    "### Nivel de satisfaccion"
   ]
  },
  {
   "cell_type": "code",
   "execution_count": 22,
   "id": "5b232813",
   "metadata": {},
   "outputs": [
    {
     "name": "stderr",
     "output_type": "stream",
     "text": [
      "/Users/foxtrot/opt/anaconda3/lib/python3.8/site-packages/seaborn/distributions.py:2557: FutureWarning: `distplot` is a deprecated function and will be removed in a future version. Please adapt your code to use either `displot` (a figure-level function with similar flexibility) or `histplot` (an axes-level function for histograms).\n",
      "  warnings.warn(msg, FutureWarning)\n"
     ]
    },
    {
     "data": {
      "text/plain": [
       "<AxesSubplot:xlabel='nivel_de_satisfaccion', ylabel='Density'>"
      ]
     },
     "execution_count": 22,
     "metadata": {},
     "output_type": "execute_result"
    },
    {
     "data": {
      "image/png": "[encoded data removed]",
      "text/plain": [
       "<Figure size 432x288 with 1 Axes>"
      ]
     },
     "metadata": {
      "needs_background": "light"
     },
     "output_type": "display_data"
    }
   ],
   "source": [
    "from scipy.stats import norm\n",
    "sns.distplot(df.nivel_de_satisfaccion, fit=norm)"
   ]
  },
  {
   "cell_type": "code",
   "execution_count": 23,
   "id": "205e1aa1",
   "metadata": {},
   "outputs": [
    {
     "data": {
      "text/plain": [
       "<AxesSubplot:xlabel='nivel_de_satisfaccion'>"
      ]
     },
     "execution_count": 23,
     "metadata": {},
     "output_type": "execute_result"
    },
    {
     "data": {
      "image/png": "[encoded data removed]",
      "text/plain": [
       "<Figure size 432x288 with 1 Axes>"
      ]
     },
     "metadata": {
      "needs_background": "light"
     },
     "output_type": "display_data"
    }
   ],
   "source": [
    "sns.boxplot(data= df , x='nivel_de_satisfaccion')"
   ]
  },
  {
   "cell_type": "code",
   "execution_count": 24,
   "id": "ad2e6178",
   "metadata": {},
   "outputs": [],
   "source": [
    "def get_satisf_bin(column):\n",
    "    ''' crea categorias de acuerdo al nivel de satisfaccion'''\n",
    "    if column >= 0 and column < 0.2:\n",
    "        return 'muy insatisfecho'\n",
    "    elif column >= 0.2 and column < 0.4:\n",
    "        return 'insatisfecho'\n",
    "    elif column >= 0.4 and column < 0.6:\n",
    "        return 'neutral'\n",
    "    elif column >= 0.6 and column < 0.8:\n",
    "        return 'satisfecho'\n",
    "    elif column >= 0.8 and column <= 1:\n",
    "        return 'muy satisfecho'\n"
   ]
  },
  {
   "cell_type": "code",
   "execution_count": 25,
   "id": "52a5d8a4",
   "metadata": {
    "scrolled": true
   },
   "outputs": [
    {
     "data": {
      "text/html": [
       "<div>\n",
       "<style scoped>\n",
       "    .dataframe tbody tr th:only-of-type {\n",
       "        vertical-align: middle;\n",
       "    }\n",
       "\n",
       "    .dataframe tbody tr th {\n",
       "        vertical-align: top;\n",
       "    }\n",
       "\n",
       "    .dataframe thead th {\n",
       "        text-align: right;\n",
       "    }\n",
       "</style>\n",
       "<table border=\"1\" class=\"dataframe\">\n",
       "  <thead>\n",
       "    <tr style=\"text-align: right;\">\n",
       "      <th></th>\n",
       "      <th>ID</th>\n",
       "      <th>nivel_de_satisfaccion</th>\n",
       "      <th>ultima_evaluacion</th>\n",
       "      <th>cantidad_proyectos</th>\n",
       "      <th>promedio_horas_mensuales_trabajadas</th>\n",
       "      <th>años_en_la_empresa</th>\n",
       "      <th>tuvo_un_accidente_laboral</th>\n",
       "      <th>promociones_ultimos_5_anios</th>\n",
       "      <th>area</th>\n",
       "      <th>salario</th>\n",
       "      <th>se_fue</th>\n",
       "      <th>satisfaccion</th>\n",
       "    </tr>\n",
       "  </thead>\n",
       "  <tbody>\n",
       "    <tr>\n",
       "      <th>0</th>\n",
       "      <td>2876.0</td>\n",
       "      <td>0.63</td>\n",
       "      <td>0.84</td>\n",
       "      <td>3</td>\n",
       "      <td>269</td>\n",
       "      <td>2</td>\n",
       "      <td>0</td>\n",
       "      <td>0</td>\n",
       "      <td>gestión de productos</td>\n",
       "      <td>bajo</td>\n",
       "      <td>no</td>\n",
       "      <td>satisfecho</td>\n",
       "    </tr>\n",
       "    <tr>\n",
       "      <th>1</th>\n",
       "      <td>7883.0</td>\n",
       "      <td>0.11</td>\n",
       "      <td>0.93</td>\n",
       "      <td>7</td>\n",
       "      <td>284</td>\n",
       "      <td>4</td>\n",
       "      <td>0</td>\n",
       "      <td>0</td>\n",
       "      <td>tecnica</td>\n",
       "      <td>bajo</td>\n",
       "      <td>si</td>\n",
       "      <td>muy insatisfecho</td>\n",
       "    </tr>\n",
       "    <tr>\n",
       "      <th>2</th>\n",
       "      <td>4089.0</td>\n",
       "      <td>0.60</td>\n",
       "      <td>0.42</td>\n",
       "      <td>2</td>\n",
       "      <td>109</td>\n",
       "      <td>6</td>\n",
       "      <td>0</td>\n",
       "      <td>0</td>\n",
       "      <td>ventas</td>\n",
       "      <td>bajo</td>\n",
       "      <td>no</td>\n",
       "      <td>satisfecho</td>\n",
       "    </tr>\n",
       "    <tr>\n",
       "      <th>3</th>\n",
       "      <td>8828.0</td>\n",
       "      <td>0.38</td>\n",
       "      <td>0.49</td>\n",
       "      <td>4</td>\n",
       "      <td>196</td>\n",
       "      <td>3</td>\n",
       "      <td>0</td>\n",
       "      <td>1</td>\n",
       "      <td>dirección</td>\n",
       "      <td>alto</td>\n",
       "      <td>no</td>\n",
       "      <td>insatisfecho</td>\n",
       "    </tr>\n",
       "    <tr>\n",
       "      <th>4</th>\n",
       "      <td>9401.0</td>\n",
       "      <td>0.11</td>\n",
       "      <td>0.83</td>\n",
       "      <td>6</td>\n",
       "      <td>244</td>\n",
       "      <td>4</td>\n",
       "      <td>0</td>\n",
       "      <td>0</td>\n",
       "      <td>contabilidad</td>\n",
       "      <td>bajo</td>\n",
       "      <td>si</td>\n",
       "      <td>muy insatisfecho</td>\n",
       "    </tr>\n",
       "  </tbody>\n",
       "</table>\n",
       "</div>"
      ],
      "text/plain": [
       "       ID  nivel_de_satisfaccion  ultima_evaluacion  cantidad_proyectos  \\\n",
       "0  2876.0                   0.63               0.84                   3   \n",
       "1  7883.0                   0.11               0.93                   7   \n",
       "2  4089.0                   0.60               0.42                   2   \n",
       "3  8828.0                   0.38               0.49                   4   \n",
       "4  9401.0                   0.11               0.83                   6   \n",
       "\n",
       "   promedio_horas_mensuales_trabajadas  años_en_la_empresa  \\\n",
       "0                                  269                   2   \n",
       "1                                  284                   4   \n",
       "2                                  109                   6   \n",
       "3                                  196                   3   \n",
       "4                                  244                   4   \n",
       "\n",
       "   tuvo_un_accidente_laboral  promociones_ultimos_5_anios  \\\n",
       "0                          0                            0   \n",
       "1                          0                            0   \n",
       "2                          0                            0   \n",
       "3                          0                            1   \n",
       "4                          0                            0   \n",
       "\n",
       "                   area salario se_fue      satisfaccion  \n",
       "0  gestión de productos    bajo     no        satisfecho  \n",
       "1               tecnica    bajo     si  muy insatisfecho  \n",
       "2                ventas    bajo     no        satisfecho  \n",
       "3             dirección    alto     no      insatisfecho  \n",
       "4          contabilidad    bajo     si  muy insatisfecho  "
      ]
     },
     "execution_count": 25,
     "metadata": {},
     "output_type": "execute_result"
    }
   ],
   "source": [
    "df['satisfaccion'] = df.nivel_de_satisfaccion.apply(lambda x: get_satisf_bin(x))\n",
    "df.head()"
   ]
  },
  {
   "cell_type": "code",
   "execution_count": 26,
   "id": "517a5022",
   "metadata": {},
   "outputs": [
    {
     "data": {
      "text/plain": [
       "<AxesSubplot:xlabel='satisfaccion', ylabel='count'>"
      ]
     },
     "execution_count": 26,
     "metadata": {},
     "output_type": "execute_result"
    },
    {
     "data": {
      "image/png": "[encoded data removed]",
      "text/plain": [
       "<Figure size 720x288 with 1 Axes>"
      ]
     },
     "metadata": {
      "needs_background": "light"
     },
     "output_type": "display_data"
    }
   ],
   "source": [
    "order = ['muy insatisfecho','insatisfecho','neutral','satisfecho','muy satisfecho']\n",
    "fig,ax = plt.subplots(figsize=(10,4))\n",
    "sns.countplot(data=df, x='satisfaccion', hue='se_fue', order=order)"
   ]
  },
  {
   "cell_type": "code",
   "execution_count": 27,
   "id": "85d80a20",
   "metadata": {},
   "outputs": [
    {
     "name": "stdout",
     "output_type": "stream",
     "text": [
      "muy insatisfecho: 64.24%\n",
      "insatisfecho: 43.75%\n",
      "neutral: 27.98%\n",
      "muy satisfecho: 13.15%\n",
      "satisfecho: 9.21%\n"
     ]
    }
   ],
   "source": [
    "get_positive_prop('satisfaccion')"
   ]
  },
  {
   "cell_type": "markdown",
   "id": "6c830ab6",
   "metadata": {},
   "source": [
    "El nivel de satisfaccion es un factor determinante para los empleados que dejan la empresa, se puede ver que el 64,2% de los empleados muy insatisfechos se van, seguido por los insatisfechos con un porcentake de 43,7% "
   ]
  },
  {
   "cell_type": "markdown",
   "id": "76a6c664",
   "metadata": {},
   "source": [
    "### Ultima evaluacion"
   ]
  },
  {
   "cell_type": "code",
   "execution_count": 28,
   "id": "36fb95fb",
   "metadata": {},
   "outputs": [
    {
     "data": {
      "text/plain": [
       "<AxesSubplot:xlabel='ultima_evaluacion'>"
      ]
     },
     "execution_count": 28,
     "metadata": {},
     "output_type": "execute_result"
    },
    {
     "data": {
      "image/png": "[encoded data removed]",
      "text/plain": [
       "<Figure size 432x288 with 1 Axes>"
      ]
     },
     "metadata": {
      "needs_background": "light"
     },
     "output_type": "display_data"
    }
   ],
   "source": [
    "sns.boxplot(data= df , x='ultima_evaluacion')"
   ]
  },
  {
   "cell_type": "code",
   "execution_count": 29,
   "id": "c0012a41",
   "metadata": {},
   "outputs": [],
   "source": [
    "def get_eval_bin(column):\n",
    "    ''' crea categorias de acuerdo al resultado de la evaluacion'''\n",
    "    if column >= 0 and column < 0.2:\n",
    "        return 'deficiente'\n",
    "    elif column >= 0.2 and column < 0.4:\n",
    "        return 'malo'\n",
    "    elif column >= 0.4 and column < 0.6:\n",
    "        return 'regular'\n",
    "    elif column >= 0.6 and column < 0.8:\n",
    "        return 'bueno'\n",
    "    elif column >= 0.8 and column <= 1:\n",
    "        return 'muy bueno'"
   ]
  },
  {
   "cell_type": "code",
   "execution_count": 30,
   "id": "62f8e62b",
   "metadata": {},
   "outputs": [
    {
     "data": {
      "text/html": [
       "<div>\n",
       "<style scoped>\n",
       "    .dataframe tbody tr th:only-of-type {\n",
       "        vertical-align: middle;\n",
       "    }\n",
       "\n",
       "    .dataframe tbody tr th {\n",
       "        vertical-align: top;\n",
       "    }\n",
       "\n",
       "    .dataframe thead th {\n",
       "        text-align: right;\n",
       "    }\n",
       "</style>\n",
       "<table border=\"1\" class=\"dataframe\">\n",
       "  <thead>\n",
       "    <tr style=\"text-align: right;\">\n",
       "      <th></th>\n",
       "      <th>ID</th>\n",
       "      <th>nivel_de_satisfaccion</th>\n",
       "      <th>ultima_evaluacion</th>\n",
       "      <th>cantidad_proyectos</th>\n",
       "      <th>promedio_horas_mensuales_trabajadas</th>\n",
       "      <th>años_en_la_empresa</th>\n",
       "      <th>tuvo_un_accidente_laboral</th>\n",
       "      <th>promociones_ultimos_5_anios</th>\n",
       "      <th>area</th>\n",
       "      <th>salario</th>\n",
       "      <th>se_fue</th>\n",
       "      <th>satisfaccion</th>\n",
       "      <th>evaluacion</th>\n",
       "    </tr>\n",
       "  </thead>\n",
       "  <tbody>\n",
       "    <tr>\n",
       "      <th>0</th>\n",
       "      <td>2876.0</td>\n",
       "      <td>0.63</td>\n",
       "      <td>0.84</td>\n",
       "      <td>3</td>\n",
       "      <td>269</td>\n",
       "      <td>2</td>\n",
       "      <td>0</td>\n",
       "      <td>0</td>\n",
       "      <td>gestión de productos</td>\n",
       "      <td>bajo</td>\n",
       "      <td>no</td>\n",
       "      <td>satisfecho</td>\n",
       "      <td>muy bueno</td>\n",
       "    </tr>\n",
       "    <tr>\n",
       "      <th>1</th>\n",
       "      <td>7883.0</td>\n",
       "      <td>0.11</td>\n",
       "      <td>0.93</td>\n",
       "      <td>7</td>\n",
       "      <td>284</td>\n",
       "      <td>4</td>\n",
       "      <td>0</td>\n",
       "      <td>0</td>\n",
       "      <td>tecnica</td>\n",
       "      <td>bajo</td>\n",
       "      <td>si</td>\n",
       "      <td>muy insatisfecho</td>\n",
       "      <td>muy bueno</td>\n",
       "    </tr>\n",
       "    <tr>\n",
       "      <th>2</th>\n",
       "      <td>4089.0</td>\n",
       "      <td>0.60</td>\n",
       "      <td>0.42</td>\n",
       "      <td>2</td>\n",
       "      <td>109</td>\n",
       "      <td>6</td>\n",
       "      <td>0</td>\n",
       "      <td>0</td>\n",
       "      <td>ventas</td>\n",
       "      <td>bajo</td>\n",
       "      <td>no</td>\n",
       "      <td>satisfecho</td>\n",
       "      <td>regular</td>\n",
       "    </tr>\n",
       "    <tr>\n",
       "      <th>3</th>\n",
       "      <td>8828.0</td>\n",
       "      <td>0.38</td>\n",
       "      <td>0.49</td>\n",
       "      <td>4</td>\n",
       "      <td>196</td>\n",
       "      <td>3</td>\n",
       "      <td>0</td>\n",
       "      <td>1</td>\n",
       "      <td>dirección</td>\n",
       "      <td>alto</td>\n",
       "      <td>no</td>\n",
       "      <td>insatisfecho</td>\n",
       "      <td>regular</td>\n",
       "    </tr>\n",
       "    <tr>\n",
       "      <th>4</th>\n",
       "      <td>9401.0</td>\n",
       "      <td>0.11</td>\n",
       "      <td>0.83</td>\n",
       "      <td>6</td>\n",
       "      <td>244</td>\n",
       "      <td>4</td>\n",
       "      <td>0</td>\n",
       "      <td>0</td>\n",
       "      <td>contabilidad</td>\n",
       "      <td>bajo</td>\n",
       "      <td>si</td>\n",
       "      <td>muy insatisfecho</td>\n",
       "      <td>muy bueno</td>\n",
       "    </tr>\n",
       "  </tbody>\n",
       "</table>\n",
       "</div>"
      ],
      "text/plain": [
       "       ID  nivel_de_satisfaccion  ultima_evaluacion  cantidad_proyectos  \\\n",
       "0  2876.0                   0.63               0.84                   3   \n",
       "1  7883.0                   0.11               0.93                   7   \n",
       "2  4089.0                   0.60               0.42                   2   \n",
       "3  8828.0                   0.38               0.49                   4   \n",
       "4  9401.0                   0.11               0.83                   6   \n",
       "\n",
       "   promedio_horas_mensuales_trabajadas  años_en_la_empresa  \\\n",
       "0                                  269                   2   \n",
       "1                                  284                   4   \n",
       "2                                  109                   6   \n",
       "3                                  196                   3   \n",
       "4                                  244                   4   \n",
       "\n",
       "   tuvo_un_accidente_laboral  promociones_ultimos_5_anios  \\\n",
       "0                          0                            0   \n",
       "1                          0                            0   \n",
       "2                          0                            0   \n",
       "3                          0                            1   \n",
       "4                          0                            0   \n",
       "\n",
       "                   area salario se_fue      satisfaccion evaluacion  \n",
       "0  gestión de productos    bajo     no        satisfecho  muy bueno  \n",
       "1               tecnica    bajo     si  muy insatisfecho  muy bueno  \n",
       "2                ventas    bajo     no        satisfecho    regular  \n",
       "3             dirección    alto     no      insatisfecho    regular  \n",
       "4          contabilidad    bajo     si  muy insatisfecho  muy bueno  "
      ]
     },
     "execution_count": 30,
     "metadata": {},
     "output_type": "execute_result"
    }
   ],
   "source": [
    "df['evaluacion'] = df.ultima_evaluacion.apply(lambda x: get_eval_bin(x))\n",
    "df.head()"
   ]
  },
  {
   "cell_type": "code",
   "execution_count": 31,
   "id": "fa8544c5",
   "metadata": {},
   "outputs": [
    {
     "data": {
      "text/plain": [
       "<AxesSubplot:xlabel='evaluacion', ylabel='count'>"
      ]
     },
     "execution_count": 31,
     "metadata": {},
     "output_type": "execute_result"
    },
    {
     "data": {
      "image/png": "[encoded data removed]",
      "text/plain": [
       "<Figure size 720x288 with 1 Axes>"
      ]
     },
     "metadata": {
      "needs_background": "light"
     },
     "output_type": "display_data"
    }
   ],
   "source": [
    "order = ['deficiente','malo','regular','bueno','muy bueno']\n",
    "fig,ax = plt.subplots(figsize=(10,4))\n",
    "sns.countplot(data=df, x='evaluacion', hue='se_fue', order=order)"
   ]
  },
  {
   "cell_type": "code",
   "execution_count": 32,
   "id": "e41c5daf",
   "metadata": {},
   "outputs": [
    {
     "name": "stdout",
     "output_type": "stream",
     "text": [
      "regular: 35.69%\n",
      "muy bueno: 29.85%\n",
      "bueno: 4.68%\n",
      "malo: 0.0%\n"
     ]
    }
   ],
   "source": [
    "get_positive_prop('evaluacion')"
   ]
  },
  {
   "cell_type": "markdown",
   "id": "56f45af6",
   "metadata": {},
   "source": [
    "Casi el 30% de los que tienen muy buenos resultados en la evaluacion dejaron la empresa, se podria interpretar como empleados sobrecalificados o en busca de un mejor salario"
   ]
  },
  {
   "cell_type": "markdown",
   "id": "c484797e",
   "metadata": {},
   "source": [
    "### Años en la empresa"
   ]
  },
  {
   "cell_type": "code",
   "execution_count": 33,
   "id": "8df1cb1f",
   "metadata": {},
   "outputs": [
    {
     "data": {
      "text/plain": [
       "<AxesSubplot:xlabel='años_en_la_empresa'>"
      ]
     },
     "execution_count": 33,
     "metadata": {},
     "output_type": "execute_result"
    },
    {
     "data": {
      "image/png": "[encoded data removed]",
      "text/plain": [
       "<Figure size 432x288 with 1 Axes>"
      ]
     },
     "metadata": {
      "needs_background": "light"
     },
     "output_type": "display_data"
    }
   ],
   "source": [
    "#anios en la empresa\n",
    "sns.boxplot(data= df , x='años_en_la_empresa')"
   ]
  },
  {
   "cell_type": "code",
   "execution_count": 34,
   "id": "7c42339b",
   "metadata": {},
   "outputs": [
    {
     "data": {
      "text/plain": [
       "<AxesSubplot:xlabel='años_en_la_empresa', ylabel='count'>"
      ]
     },
     "execution_count": 34,
     "metadata": {},
     "output_type": "execute_result"
    },
    {
     "data": {
      "image/png": "[encoded data removed]",
      "text/plain": [
       "<Figure size 432x288 with 1 Axes>"
      ]
     },
     "metadata": {
      "needs_background": "light"
     },
     "output_type": "display_data"
    }
   ],
   "source": [
    "sns.countplot(data=df,x='años_en_la_empresa',hue='se_fue')"
   ]
  },
  {
   "cell_type": "code",
   "execution_count": 35,
   "id": "77693368",
   "metadata": {},
   "outputs": [
    {
     "name": "stdout",
     "output_type": "stream",
     "text": [
      "5: 55.13%\n",
      "4: 35.21%\n",
      "6: 30.13%\n",
      "3: 24.64%\n",
      "2: 1.53%\n",
      "10: 0.0%\n",
      "7: 0.0%\n",
      "8: 0.0%\n"
     ]
    }
   ],
   "source": [
    "get_positive_prop('años_en_la_empresa')"
   ]
  },
  {
   "cell_type": "markdown",
   "id": "5822fadb",
   "metadata": {},
   "source": [
    "Los empleados con 7 años o mas en la empresa no suelen irse. La mayor parte de las deserciones se observa en los empleados que tienen de 3 a 6 anios en la empresa"
   ]
  },
  {
   "cell_type": "markdown",
   "id": "7583a2bf",
   "metadata": {},
   "source": [
    "### Composicion del target de acuerdo a los salarios"
   ]
  },
  {
   "cell_type": "code",
   "execution_count": 36,
   "id": "14c17c60",
   "metadata": {},
   "outputs": [
    {
     "data": {
      "text/plain": [
       "<AxesSubplot:xlabel='se_fue', ylabel='Count'>"
      ]
     },
     "execution_count": 36,
     "metadata": {},
     "output_type": "execute_result"
    },
    {
     "data": {
      "image/png": "[encoded data removed]",
      "text/plain": [
       "<Figure size 432x288 with 1 Axes>"
      ]
     },
     "metadata": {
      "needs_background": "light"
     },
     "output_type": "display_data"
    }
   ],
   "source": [
    "#composicion del target de acuerdo a los salarios\n",
    "import seaborn as sns\n",
    "import matplotlib.pyplot as plt\n",
    "%matplotlib inline\n",
    "palette = ['tab:green', 'tab:orange', 'tab:red']\n",
    "hue_order = ['alto', 'medio', 'bajo']\n",
    "sns.histplot(binwidth=0.5, x=\"se_fue\", hue=\"salario\", data=df, stat=\"count\", multiple=\"stack\",hue_order=hue_order,palette=palette)\n"
   ]
  },
  {
   "cell_type": "markdown",
   "id": "31294652",
   "metadata": {},
   "source": [
    "Los empleados que tienen salarios altos no suelen dejar la empresa"
   ]
  },
  {
   "cell_type": "markdown",
   "id": "19c8b85b",
   "metadata": {},
   "source": [
    "### Composicion del target de acuerdo al nivel de satisfaccion"
   ]
  },
  {
   "cell_type": "code",
   "execution_count": 37,
   "id": "dac0a371",
   "metadata": {},
   "outputs": [
    {
     "data": {
      "text/plain": [
       "<AxesSubplot:xlabel='se_fue', ylabel='Count'>"
      ]
     },
     "execution_count": 37,
     "metadata": {},
     "output_type": "execute_result"
    },
    {
     "data": {
      "image/png": "[encoded data removed]",
      "text/plain": [
       "<Figure size 432x288 with 1 Axes>"
      ]
     },
     "metadata": {
      "needs_background": "light"
     },
     "output_type": "display_data"
    }
   ],
   "source": [
    "palette = sns.color_palette('RdYlGn_r',5)\n",
    "hue_order = ['muy satisfecho', 'satisfecho', 'neutral','insatisfecho', 'muy insatisfecho']\n",
    "sns.histplot(binwidth=0.5, x=\"se_fue\", hue=\"satisfaccion\", data=df, stat=\"count\", multiple=\"stack\",hue_order=hue_order,palette=palette)\n",
    "\n"
   ]
  },
  {
   "cell_type": "markdown",
   "id": "6d042b83",
   "metadata": {},
   "source": [
    "### Composicion del target de acuerdo a los resultados de la evaluacion"
   ]
  },
  {
   "cell_type": "code",
   "execution_count": 38,
   "id": "084107d7",
   "metadata": {},
   "outputs": [
    {
     "data": {
      "text/plain": [
       "<AxesSubplot:xlabel='se_fue', ylabel='Count'>"
      ]
     },
     "execution_count": 38,
     "metadata": {},
     "output_type": "execute_result"
    },
    {
     "data": {
      "image/png": "[encoded data removed]",
      "text/plain": [
       "<Figure size 432x288 with 1 Axes>"
      ]
     },
     "metadata": {
      "needs_background": "light"
     },
     "output_type": "display_data"
    }
   ],
   "source": [
    "palette = sns.color_palette('RdYlGn_r',5)\n",
    "hue_order = ['muy bueno','bueno' ,'regular','malo', 'deficiente', ]\n",
    "sns.histplot(binwidth=0.5, x=\"se_fue\", hue=\"evaluacion\", data=df, stat=\"count\", multiple=\"stack\",hue_order=hue_order,palette=palette)\n"
   ]
  },
  {
   "cell_type": "markdown",
   "id": "52b73dc3",
   "metadata": {},
   "source": [
    "### Cantidad de proyectos y nivel de satisfaccion"
   ]
  },
  {
   "cell_type": "code",
   "execution_count": 39,
   "id": "a7d7150f",
   "metadata": {},
   "outputs": [
    {
     "data": {
      "text/plain": [
       "<seaborn.axisgrid.FacetGrid at 0x7fe4891951c0>"
      ]
     },
     "execution_count": 39,
     "metadata": {},
     "output_type": "execute_result"
    },
    {
     "data": {
      "image/png": "[encoded data removed]",
      "text/plain": [
       "<Figure size 408.375x360 with 1 Axes>"
      ]
     },
     "metadata": {
      "needs_background": "light"
     },
     "output_type": "display_data"
    }
   ],
   "source": [
    "sns.catplot(x='cantidad_proyectos', y='nivel_de_satisfaccion', hue='se_fue', data=df, kind='bar')"
   ]
  },
  {
   "cell_type": "markdown",
   "id": "cf2f0657",
   "metadata": {},
   "source": [
    "### Cantidad de Proyectos"
   ]
  },
  {
   "cell_type": "code",
   "execution_count": 40,
   "id": "0593c26b",
   "metadata": {},
   "outputs": [
    {
     "data": {
      "text/plain": [
       "<AxesSubplot:xlabel='cantidad_proyectos', ylabel='count'>"
      ]
     },
     "execution_count": 40,
     "metadata": {},
     "output_type": "execute_result"
    },
    {
     "data": {
      "image/png": "[encoded data removed]",
      "text/plain": [
       "<Figure size 432x288 with 1 Axes>"
      ]
     },
     "metadata": {
      "needs_background": "light"
     },
     "output_type": "display_data"
    }
   ],
   "source": [
    "sns.countplot(data=df,x='cantidad_proyectos',hue='se_fue')"
   ]
  },
  {
   "cell_type": "code",
   "execution_count": 41,
   "id": "39440ff9",
   "metadata": {},
   "outputs": [
    {
     "name": "stdout",
     "output_type": "stream",
     "text": [
      "7: 100.0%\n",
      "2: 65.45%\n",
      "6: 55.22%\n",
      "5: 21.88%\n",
      "4: 8.92%\n",
      "3: 1.54%\n"
     ]
    }
   ],
   "source": [
    "get_positive_prop('cantidad_proyectos')"
   ]
  },
  {
   "cell_type": "markdown",
   "id": "5da511f2",
   "metadata": {},
   "source": [
    "### Cantidad de proyectos y promedio de horas trabajadas"
   ]
  },
  {
   "cell_type": "code",
   "execution_count": 42,
   "id": "5e231d95",
   "metadata": {},
   "outputs": [
    {
     "data": {
      "text/plain": [
       "<seaborn.axisgrid.FacetGrid at 0x7fe4895c8fa0>"
      ]
     },
     "execution_count": 42,
     "metadata": {},
     "output_type": "execute_result"
    },
    {
     "data": {
      "image/png": "[encoded data removed]",
      "text/plain": [
       "<Figure size 408.375x360 with 1 Axes>"
      ]
     },
     "metadata": {
      "needs_background": "light"
     },
     "output_type": "display_data"
    }
   ],
   "source": [
    "sns.catplot(x='cantidad_proyectos', y='promedio_horas_mensuales_trabajadas', hue='se_fue', data=df, kind='bar')\n"
   ]
  },
  {
   "cell_type": "markdown",
   "id": "fc456f54",
   "metadata": {},
   "source": [
    "Aquellos empleados con mas de 200 horas mensuales trabajadas y mas de 3 proyectos suelen dejar la empresa"
   ]
  },
  {
   "cell_type": "markdown",
   "id": "50042872",
   "metadata": {},
   "source": [
    "### Ultima evaluacion y promedio de horas trabajadas"
   ]
  },
  {
   "cell_type": "code",
   "execution_count": 43,
   "id": "5adfc0d9",
   "metadata": {},
   "outputs": [
    {
     "data": {
      "text/plain": [
       "<AxesSubplot:xlabel='ultima_evaluacion', ylabel='promedio_horas_mensuales_trabajadas'>"
      ]
     },
     "execution_count": 43,
     "metadata": {},
     "output_type": "execute_result"
    },
    {
     "data": {
      "image/png": "[encoded data removed]",
      "text/plain": [
       "<Figure size 432x288 with 1 Axes>"
      ]
     },
     "metadata": {
      "needs_background": "light"
     },
     "output_type": "display_data"
    }
   ],
   "source": [
    "sns.scatterplot(data=df, x='ultima_evaluacion', y='promedio_horas_mensuales_trabajadas',hue='se_fue')"
   ]
  },
  {
   "cell_type": "markdown",
   "id": "d59d5bdb",
   "metadata": {},
   "source": [
    "Los empleados con muy buenos resultados en la evaluacion y que ademas trabajan muchas horas suelen dejar la empresa (distribucion de los puntos naranjas en la esquina superior derecha), \n",
    "Asi tambien los empleados con bajo rendimiento en la evaluacion y pocas horas trabajadas al mes suelen irse (distribucion de los puntos naranjas en la esquina inferior izquierda).\n",
    "Esto lleva a pensar que la sobrecalificacion y la subcalificacion para un puesto de trabajo puede estar relacionada con la desercion"
   ]
  },
  {
   "cell_type": "markdown",
   "id": "c69410e1",
   "metadata": {},
   "source": [
    "## Feature Engineering"
   ]
  },
  {
   "cell_type": "code",
   "execution_count": 44,
   "id": "447f4ba4",
   "metadata": {},
   "outputs": [
    {
     "data": {
      "text/html": [
       "<div>\n",
       "<style scoped>\n",
       "    .dataframe tbody tr th:only-of-type {\n",
       "        vertical-align: middle;\n",
       "    }\n",
       "\n",
       "    .dataframe tbody tr th {\n",
       "        vertical-align: top;\n",
       "    }\n",
       "\n",
       "    .dataframe thead th {\n",
       "        text-align: right;\n",
       "    }\n",
       "</style>\n",
       "<table border=\"1\" class=\"dataframe\">\n",
       "  <thead>\n",
       "    <tr style=\"text-align: right;\">\n",
       "      <th></th>\n",
       "      <th>nivel_de_satisfaccion</th>\n",
       "      <th>ultima_evaluacion</th>\n",
       "      <th>cantidad_proyectos</th>\n",
       "      <th>promedio_horas_mensuales_trabajadas</th>\n",
       "      <th>años_en_la_empresa</th>\n",
       "      <th>tuvo_un_accidente_laboral</th>\n",
       "      <th>promociones_ultimos_5_anios</th>\n",
       "      <th>area</th>\n",
       "      <th>salario</th>\n",
       "    </tr>\n",
       "  </thead>\n",
       "  <tbody>\n",
       "    <tr>\n",
       "      <th>0</th>\n",
       "      <td>0.63</td>\n",
       "      <td>0.84</td>\n",
       "      <td>3</td>\n",
       "      <td>269</td>\n",
       "      <td>2</td>\n",
       "      <td>0</td>\n",
       "      <td>0</td>\n",
       "      <td>gestión de productos</td>\n",
       "      <td>bajo</td>\n",
       "    </tr>\n",
       "    <tr>\n",
       "      <th>1</th>\n",
       "      <td>0.11</td>\n",
       "      <td>0.93</td>\n",
       "      <td>7</td>\n",
       "      <td>284</td>\n",
       "      <td>4</td>\n",
       "      <td>0</td>\n",
       "      <td>0</td>\n",
       "      <td>tecnica</td>\n",
       "      <td>bajo</td>\n",
       "    </tr>\n",
       "    <tr>\n",
       "      <th>2</th>\n",
       "      <td>0.60</td>\n",
       "      <td>0.42</td>\n",
       "      <td>2</td>\n",
       "      <td>109</td>\n",
       "      <td>6</td>\n",
       "      <td>0</td>\n",
       "      <td>0</td>\n",
       "      <td>ventas</td>\n",
       "      <td>bajo</td>\n",
       "    </tr>\n",
       "    <tr>\n",
       "      <th>3</th>\n",
       "      <td>0.38</td>\n",
       "      <td>0.49</td>\n",
       "      <td>4</td>\n",
       "      <td>196</td>\n",
       "      <td>3</td>\n",
       "      <td>0</td>\n",
       "      <td>1</td>\n",
       "      <td>dirección</td>\n",
       "      <td>alto</td>\n",
       "    </tr>\n",
       "    <tr>\n",
       "      <th>4</th>\n",
       "      <td>0.11</td>\n",
       "      <td>0.83</td>\n",
       "      <td>6</td>\n",
       "      <td>244</td>\n",
       "      <td>4</td>\n",
       "      <td>0</td>\n",
       "      <td>0</td>\n",
       "      <td>contabilidad</td>\n",
       "      <td>bajo</td>\n",
       "    </tr>\n",
       "  </tbody>\n",
       "</table>\n",
       "</div>"
      ],
      "text/plain": [
       "   nivel_de_satisfaccion  ultima_evaluacion  cantidad_proyectos  \\\n",
       "0                   0.63               0.84                   3   \n",
       "1                   0.11               0.93                   7   \n",
       "2                   0.60               0.42                   2   \n",
       "3                   0.38               0.49                   4   \n",
       "4                   0.11               0.83                   6   \n",
       "\n",
       "   promedio_horas_mensuales_trabajadas  años_en_la_empresa  \\\n",
       "0                                  269                   2   \n",
       "1                                  284                   4   \n",
       "2                                  109                   6   \n",
       "3                                  196                   3   \n",
       "4                                  244                   4   \n",
       "\n",
       "   tuvo_un_accidente_laboral  promociones_ultimos_5_anios  \\\n",
       "0                          0                            0   \n",
       "1                          0                            0   \n",
       "2                          0                            0   \n",
       "3                          0                            1   \n",
       "4                          0                            0   \n",
       "\n",
       "                   area salario  \n",
       "0  gestión de productos    bajo  \n",
       "1               tecnica    bajo  \n",
       "2                ventas    bajo  \n",
       "3             dirección    alto  \n",
       "4          contabilidad    bajo  "
      ]
     },
     "execution_count": 44,
     "metadata": {},
     "output_type": "execute_result"
    }
   ],
   "source": [
    "y = df['se_fue']\n",
    "df.drop(columns=['ID','satisfaccion','evaluacion','se_fue'],inplace=True)\n",
    "df.head()"
   ]
  },
  {
   "cell_type": "code",
   "execution_count": 45,
   "id": "3312b7e6",
   "metadata": {},
   "outputs": [],
   "source": [
    "from sklearn.model_selection import train_test_split\n",
    "X_train, X_test, y_train, y_test = train_test_split(df, y, test_size=0.20, random_state=0)"
   ]
  },
  {
   "cell_type": "markdown",
   "id": "ae32d5b3",
   "metadata": {},
   "source": [
    "### Scaling & Categorical Encoding"
   ]
  },
  {
   "cell_type": "code",
   "execution_count": 46,
   "id": "bb034050",
   "metadata": {},
   "outputs": [],
   "source": [
    "from sklearn.pipeline import Pipeline\n",
    "from sklearn.preprocessing import  StandardScaler,OneHotEncoder\n",
    "from sklearn.compose import ColumnTransformer\n",
    "\n",
    "numeric_features = ['cantidad_proyectos','promedio_horas_mensuales_trabajadas','años_en_la_empresa']\n",
    "numeric_transformer = Pipeline(steps=[\n",
    "    ('scaler', StandardScaler())\n",
    "])\n",
    "\n",
    "categorical_features = ['area','salario']\n",
    "categorical_transformer = Pipeline(steps=[\n",
    "    ('onehot', OneHotEncoder(sparse=False, handle_unknown='ignore'))\n",
    "])\n",
    "\n",
    "preprocessor = ColumnTransformer(\n",
    "    transformers=[\n",
    "        ('num', numeric_transformer, numeric_features),\n",
    "        ('cat', categorical_transformer, categorical_features)])"
   ]
  },
  {
   "cell_type": "code",
   "execution_count": 47,
   "id": "c12ae71f",
   "metadata": {},
   "outputs": [],
   "source": [
    "data_prepared = preprocessor.fit_transform(X_train)"
   ]
  },
  {
   "cell_type": "markdown",
   "id": "bb6fdd9e",
   "metadata": {},
   "source": [
    "### Oversampling"
   ]
  },
  {
   "cell_type": "code",
   "execution_count": 48,
   "id": "0f844481",
   "metadata": {},
   "outputs": [],
   "source": [
    "from imblearn.over_sampling import SMOTE\n",
    "from collections import Counter"
   ]
  },
  {
   "cell_type": "code",
   "execution_count": 49,
   "id": "d1ab6db4",
   "metadata": {},
   "outputs": [
    {
     "name": "stdout",
     "output_type": "stream",
     "text": [
      "Original dataset shape Counter({'no': 4912, 'si': 1488})\n",
      "Nuevo dataset shape Counter({'no': 4912, 'si': 4912})\n"
     ]
    }
   ],
   "source": [
    "\n",
    "\n",
    "print(f'Original dataset shape {Counter(y_train)}')\n",
    "smt = SMOTE(random_state=20)\n",
    "train_input_new, train_output_new = smt.fit_resample(data_prepared, y_train)\n",
    "#train_output_new = train_output_new['yes']\n",
    "print(f'Nuevo dataset shape {Counter(train_output_new)}')\n",
    "#train_input_new = pd.DataFrame(train_input_new, columns = list(features.columns))"
   ]
  },
  {
   "cell_type": "code",
   "execution_count": 50,
   "id": "df99cfbf",
   "metadata": {},
   "outputs": [],
   "source": [
    "data_prepared = preprocessor.fit_transform(X_train)"
   ]
  },
  {
   "cell_type": "markdown",
   "id": "cdb85c00",
   "metadata": {},
   "source": [
    "## Model Selection"
   ]
  },
  {
   "cell_type": "code",
   "execution_count": 51,
   "id": "0ee44fed",
   "metadata": {},
   "outputs": [],
   "source": [
    "import warnings\n",
    "warnings.filterwarnings('ignore')"
   ]
  },
  {
   "cell_type": "code",
   "execution_count": 52,
   "id": "ecf1c7b2",
   "metadata": {},
   "outputs": [
    {
     "name": "stdout",
     "output_type": "stream",
     "text": [
      "LogisticRegression Test Acurracy 0.6577764202810018\n",
      "RandomForestClassifier Test Acurracy 0.9616256075704798\n",
      "KNeighborsClassifier Test Acurracy 0.9349558943079953\n",
      "SVC Test Acurracy 0.9350577065661912\n",
      "XGBClassifier Test Acurracy 0.9654935407505506\n"
     ]
    }
   ],
   "source": [
    "from sklearn.linear_model import LogisticRegression\n",
    "from sklearn.model_selection import cross_val_score\n",
    "import xgboost as xgb\n",
    "from sklearn.neighbors import KNeighborsClassifier\n",
    "from sklearn.svm import SVC\n",
    "from sklearn.pipeline import Pipeline\n",
    "from sklearn.ensemble import RandomForestClassifier\n",
    "\n",
    "lr_cv = LogisticRegression(random_state=0)\n",
    "rf_cv=RandomForestClassifier()\n",
    "knn_cv=KNeighborsClassifier()\n",
    "svc_cv=SVC()\n",
    "xgb_cv=xgb.XGBClassifier(eval_metric='mlogloss')\n",
    "cv_models=[lr_cv,rf_cv,knn_cv,svc_cv,xgb_cv]\n",
    "\n",
    "\n",
    "for i,model in enumerate(cv_models):\n",
    "    print(f'''{model.__class__.__name__} Test Acurracy {cross_val_score(model, train_input_new, train_output_new, cv=3, scoring ='accuracy').mean()}''')\n",
    "    "
   ]
  },
  {
   "cell_type": "markdown",
   "id": "3fedade1",
   "metadata": {},
   "source": [
    "Los modelos con mejores resultados son Random Forest y XGBoost"
   ]
  },
  {
   "cell_type": "code",
   "execution_count": 53,
   "id": "f16690e9",
   "metadata": {},
   "outputs": [],
   "source": [
    "from sklearn import preprocessing\n",
    "lb = preprocessing.LabelBinarizer()\n"
   ]
  },
  {
   "cell_type": "code",
   "execution_count": 54,
   "id": "b7301447",
   "metadata": {},
   "outputs": [],
   "source": [
    "y = np.array([number[0] for number in lb.fit_transform(train_output_new)])"
   ]
  },
  {
   "cell_type": "code",
   "execution_count": 55,
   "id": "1cb5c871",
   "metadata": {},
   "outputs": [
    {
     "data": {
      "text/plain": [
       "array([0, 1, 0, ..., 1, 1, 1])"
      ]
     },
     "execution_count": 55,
     "metadata": {},
     "output_type": "execute_result"
    }
   ],
   "source": [
    "y"
   ]
  },
  {
   "cell_type": "code",
   "execution_count": 56,
   "id": "99f0cba6",
   "metadata": {},
   "outputs": [],
   "source": [
    "from sklearn.model_selection import cross_val_score\n",
    "\n",
    "#accuracy\n",
    "scores = cross_val_score(rf_cv,train_input_new,y,scoring='accuracy', cv=10)"
   ]
  },
  {
   "cell_type": "code",
   "execution_count": 57,
   "id": "75d00a73",
   "metadata": {},
   "outputs": [
    {
     "data": {
      "text/plain": [
       "0.9643782386103474"
      ]
     },
     "execution_count": 57,
     "metadata": {},
     "output_type": "execute_result"
    }
   ],
   "source": [
    "acc = scores.mean()\n",
    "acc"
   ]
  },
  {
   "cell_type": "code",
   "execution_count": 58,
   "id": "b10916d8",
   "metadata": {},
   "outputs": [],
   "source": [
    "#recall\n",
    "scores = cross_val_score(rf_cv,train_input_new,y,scoring='recall', cv=10)"
   ]
  },
  {
   "cell_type": "code",
   "execution_count": 59,
   "id": "8787161a",
   "metadata": {},
   "outputs": [
    {
     "data": {
      "text/plain": [
       "0.9645836437997781"
      ]
     },
     "execution_count": 59,
     "metadata": {},
     "output_type": "execute_result"
    }
   ],
   "source": [
    "recall = scores.mean()\n",
    "recall"
   ]
  },
  {
   "cell_type": "code",
   "execution_count": 60,
   "id": "db9f9771",
   "metadata": {},
   "outputs": [],
   "source": [
    "#precision\n",
    "scores = cross_val_score(rf_cv,train_input_new,y,scoring='precision', cv=10)"
   ]
  },
  {
   "cell_type": "code",
   "execution_count": 61,
   "id": "a0e4a78f",
   "metadata": {},
   "outputs": [
    {
     "data": {
      "text/plain": [
       "0.9637672210730679"
      ]
     },
     "execution_count": 61,
     "metadata": {},
     "output_type": "execute_result"
    }
   ],
   "source": [
    "precision = scores.mean()\n",
    "precision"
   ]
  },
  {
   "cell_type": "code",
   "execution_count": 62,
   "id": "db1c02a7",
   "metadata": {},
   "outputs": [],
   "source": [
    "#f1 score\n",
    "scores = cross_val_score(rf_cv,train_input_new,y,scoring='f1', cv=10)"
   ]
  },
  {
   "cell_type": "code",
   "execution_count": 63,
   "id": "f5108e31",
   "metadata": {},
   "outputs": [
    {
     "data": {
      "text/plain": [
       "0.9629951013348459"
      ]
     },
     "execution_count": 63,
     "metadata": {},
     "output_type": "execute_result"
    }
   ],
   "source": [
    "f1 = scores.mean()\n",
    "f1"
   ]
  },
  {
   "cell_type": "code",
   "execution_count": 64,
   "id": "f522e9ad",
   "metadata": {},
   "outputs": [],
   "source": [
    "from sklearn.model_selection import cross_val_predict\n",
    "from sklearn.metrics import confusion_matrix\n",
    "\n",
    "y_pred = cross_val_predict(rf_cv, train_input_new, y, cv=10)\n",
    "conf_mat = confusion_matrix(y, y_pred)"
   ]
  },
  {
   "cell_type": "code",
   "execution_count": 65,
   "id": "134dee15",
   "metadata": {},
   "outputs": [
    {
     "name": "stdout",
     "output_type": "stream",
     "text": [
      "          pred:0  pred:1\n",
      "actual:0    4733     179\n",
      "actual:1     172    4740\n"
     ]
    }
   ],
   "source": [
    "cmtx = pd.DataFrame(\n",
    "    confusion_matrix(y, y_pred), \n",
    "    index=['actual:0', 'actual:1'], \n",
    "    columns=['pred:0', 'pred:1']\n",
    ")\n",
    "print(cmtx)"
   ]
  },
  {
   "cell_type": "markdown",
   "id": "4c80382d",
   "metadata": {},
   "source": [
    "### Hyperparameter Tunning"
   ]
  },
  {
   "cell_type": "markdown",
   "id": "76a6c64a",
   "metadata": {},
   "source": [
    "#### Random Forest"
   ]
  },
  {
   "cell_type": "code",
   "execution_count": 66,
   "id": "6c073347",
   "metadata": {},
   "outputs": [],
   "source": [
    "from sklearn.model_selection import RandomizedSearchCV\n",
    "# Numero de arboles\n",
    "n_estimators = [int(x) for x in np.linspace(start = 200, stop = 2000, num = 10)]\n",
    "# Numero de features a considerar en cada split\n",
    "max_features = ['auto', 'sqrt']\n",
    "# Numero maximo de niveles\n",
    "max_depth = [int(x) for x in np.linspace(10, 110, num = 11)]\n",
    "max_depth.append(None)\n",
    "# Minimo numero de samples requeridos para dividir un nodo\n",
    "min_samples_split = [2, 5, 10]\n",
    "# Minimo numero de samples requeridos en cada leaf node\n",
    "min_samples_leaf = [1, 2, 4]\n",
    "# Metodo para seleccionar samples para entrenar cada arbol(with or without replacement)\n",
    "bootstrap = [True, False]"
   ]
  },
  {
   "cell_type": "code",
   "execution_count": 67,
   "id": "91558927",
   "metadata": {},
   "outputs": [],
   "source": [
    "random_grid = {'n_estimators': n_estimators,\n",
    "               'max_features': max_features,\n",
    "               'max_depth': max_depth,\n",
    "               'min_samples_split': min_samples_split,\n",
    "               'min_samples_leaf': min_samples_leaf,\n",
    "               'bootstrap': bootstrap}"
   ]
  },
  {
   "cell_type": "code",
   "execution_count": 68,
   "id": "ae1091d0",
   "metadata": {},
   "outputs": [
    {
     "data": {
      "text/plain": [
       "{'n_estimators': [200, 400, 600, 800, 1000, 1200, 1400, 1600, 1800, 2000],\n",
       " 'max_features': ['auto', 'sqrt'],\n",
       " 'max_depth': [10, 20, 30, 40, 50, 60, 70, 80, 90, 100, 110, None],\n",
       " 'min_samples_split': [2, 5, 10],\n",
       " 'min_samples_leaf': [1, 2, 4],\n",
       " 'bootstrap': [True, False]}"
      ]
     },
     "execution_count": 68,
     "metadata": {},
     "output_type": "execute_result"
    }
   ],
   "source": [
    "random_grid"
   ]
  },
  {
   "cell_type": "code",
   "execution_count": 69,
   "id": "be3af2fb",
   "metadata": {},
   "outputs": [],
   "source": [
    "\n",
    "rf_random = RandomizedSearchCV(estimator = rf_cv, param_distributions = random_grid, n_iter = 100, cv = 3, verbose=2, random_state=42, n_jobs = -1)\n",
    "\n"
   ]
  },
  {
   "cell_type": "code",
   "execution_count": 70,
   "id": "de518978",
   "metadata": {},
   "outputs": [
    {
     "name": "stdout",
     "output_type": "stream",
     "text": [
      "Fitting 3 folds for each of 100 candidates, totalling 300 fits\n"
     ]
    },
    {
     "data": {
      "text/plain": [
       "RandomizedSearchCV(cv=3, estimator=RandomForestClassifier(), n_iter=100,\n",
       "                   n_jobs=-1,\n",
       "                   param_distributions={'bootstrap': [True, False],\n",
       "                                        'max_depth': [10, 20, 30, 40, 50, 60,\n",
       "                                                      70, 80, 90, 100, 110,\n",
       "                                                      None],\n",
       "                                        'max_features': ['auto', 'sqrt'],\n",
       "                                        'min_samples_leaf': [1, 2, 4],\n",
       "                                        'min_samples_split': [2, 5, 10],\n",
       "                                        'n_estimators': [200, 400, 600, 800,\n",
       "                                                         1000, 1200, 1400, 1600,\n",
       "                                                         1800, 2000]},\n",
       "                   random_state=42, verbose=2)"
      ]
     },
     "execution_count": 70,
     "metadata": {},
     "output_type": "execute_result"
    }
   ],
   "source": [
    "rf_random.fit(train_input_new, y)"
   ]
  },
  {
   "cell_type": "code",
   "execution_count": 71,
   "id": "570d27c7",
   "metadata": {},
   "outputs": [
    {
     "data": {
      "text/plain": [
       "{'n_estimators': 1600,\n",
       " 'min_samples_split': 5,\n",
       " 'min_samples_leaf': 1,\n",
       " 'max_features': 'sqrt',\n",
       " 'max_depth': 70,\n",
       " 'bootstrap': False}"
      ]
     },
     "execution_count": 71,
     "metadata": {},
     "output_type": "execute_result"
    }
   ],
   "source": [
    "rf_random.best_params_"
   ]
  },
  {
   "cell_type": "code",
   "execution_count": 72,
   "id": "b8418616",
   "metadata": {},
   "outputs": [],
   "source": [
    "rf_best=rf_random.best_estimator_"
   ]
  },
  {
   "cell_type": "code",
   "execution_count": 73,
   "id": "d7e8f5fe",
   "metadata": {},
   "outputs": [],
   "source": [
    "test_prepared = preprocessor.fit_transform(X_test)"
   ]
  },
  {
   "cell_type": "code",
   "execution_count": 74,
   "id": "04888569",
   "metadata": {},
   "outputs": [],
   "source": [
    "rf_prd = rf_best.predict(test_prepared)"
   ]
  },
  {
   "cell_type": "code",
   "execution_count": 75,
   "id": "bd6815e2",
   "metadata": {},
   "outputs": [],
   "source": [
    "rf_prd = np.array([number[0] for number in lb.fit_transform(rf_prd)])\n",
    "y_test = np.array([number[0] for number in lb.fit_transform(y_test)])"
   ]
  },
  {
   "cell_type": "code",
   "execution_count": 76,
   "id": "16411ac5",
   "metadata": {},
   "outputs": [
    {
     "name": "stdout",
     "output_type": "stream",
     "text": [
      "          pred:0  pred:1\n",
      "actual:0    1075     125\n",
      "actual:1      38     362\n"
     ]
    }
   ],
   "source": [
    "cmtx = pd.DataFrame(\n",
    "    confusion_matrix(y_test, rf_prd), \n",
    "    index=['actual:0', 'actual:1'], \n",
    "    columns=['pred:0', 'pred:1']\n",
    ")\n",
    "print(cmtx)"
   ]
  },
  {
   "cell_type": "code",
   "execution_count": 77,
   "id": "be318ca1",
   "metadata": {},
   "outputs": [
    {
     "name": "stdout",
     "output_type": "stream",
     "text": [
      "Accuracy is 0.90\n",
      "Precision is 0.74\n",
      "Recall is 0.91\n",
      "f1Score is 0.82\n"
     ]
    }
   ],
   "source": [
    "from sklearn.metrics import accuracy_score, precision_score, recall_score , f1_score\n",
    "print(f\"Accuracy is {accuracy_score(y_test, rf_prd):.2f}\")\n",
    "print(f\"Precision is {precision_score(y_test, rf_prd):.2f}\")\n",
    "print(f\"Recall is {recall_score(y_test, rf_prd):.2f}\")\n",
    "print(f\"f1Score is {f1_score(y_test, rf_prd):.2f}\")"
   ]
  },
  {
   "cell_type": "code",
   "execution_count": 78,
   "id": "f6cbb37d",
   "metadata": {},
   "outputs": [
    {
     "data": {
      "image/png": "[encoded data removed]",
      "text/plain": [
       "<Figure size 720x432 with 1 Axes>"
      ]
     },
     "metadata": {
      "needs_background": "light"
     },
     "output_type": "display_data"
    }
   ],
   "source": [
    "feature_names = X_train.columns\n",
    "feature_imports = rf_best.feature_importances_\n",
    "most_imp_features = pd.DataFrame([f for f in zip(feature_names,feature_imports)], columns=[\"Feature\", \"Importance\"]).nlargest(10, \"Importance\")\n",
    "most_imp_features.sort_values(by=\"Importance\", inplace=True)\n",
    "plt.figure(figsize=(10,6))\n",
    "plt.barh(range(len(most_imp_features)), most_imp_features.Importance, align='center', alpha=0.8)\n",
    "plt.yticks(range(len(most_imp_features)), most_imp_features.Feature, fontsize=14)\n",
    "plt.xlabel('Importancia')\n",
    "plt.title('Features mas importantes - Random Forest ')\n",
    "plt.show()"
   ]
  },
  {
   "cell_type": "markdown",
   "id": "c6517e9b",
   "metadata": {},
   "source": [
    "#### XGBoost"
   ]
  },
  {
   "cell_type": "code",
   "execution_count": 79,
   "id": "0474ffba",
   "metadata": {},
   "outputs": [],
   "source": [
    "data_prepared = preprocessor.fit_transform(X_train)"
   ]
  },
  {
   "cell_type": "code",
   "execution_count": 80,
   "id": "ff3d4880",
   "metadata": {},
   "outputs": [
    {
     "name": "stdout",
     "output_type": "stream",
     "text": [
      "[10:11:18] WARNING: /Users/runner/work/xgboost/xgboost/src/learner.cc:1115: Starting in XGBoost 1.3.0, the default evaluation metric used with the objective 'binary:logistic' was changed from 'error' to 'logloss'. Explicitly set eval_metric if you'd like to restore the old behavior.\n"
     ]
    },
    {
     "data": {
      "text/plain": [
       "XGBClassifier(base_score=0.5, booster='gbtree', colsample_bylevel=1,\n",
       "              colsample_bynode=1, colsample_bytree=1, enable_categorical=False,\n",
       "              gamma=0, gpu_id=-1, importance_type=None,\n",
       "              interaction_constraints='', learning_rate=0.300000012,\n",
       "              max_delta_step=0, max_depth=10, min_child_weight=1, missing=nan,\n",
       "              monotone_constraints='()', n_estimators=100, n_jobs=4,\n",
       "              num_parallel_tree=1, predictor='auto', random_state=0,\n",
       "              reg_alpha=0, reg_lambda=1, scale_pos_weight=1, subsample=1,\n",
       "              tree_method='exact', validate_parameters=1, verbosity=None)"
      ]
     },
     "execution_count": 80,
     "metadata": {},
     "output_type": "execute_result"
    }
   ],
   "source": [
    "xgb_model = xgb.XGBClassifier(max_depth=10,n_estimators=100)\n",
    "xgb_model.fit(data_prepared,y_train)"
   ]
  },
  {
   "cell_type": "code",
   "execution_count": 81,
   "id": "ef0b77f3",
   "metadata": {},
   "outputs": [
    {
     "data": {
      "text/plain": [
       "array(['si', 'no', 'no', ..., 'si', 'no', 'no'], dtype=object)"
      ]
     },
     "execution_count": 81,
     "metadata": {},
     "output_type": "execute_result"
    }
   ],
   "source": [
    "xgb_pred=xgb_model.predict(test_prepared)\n",
    "xgb_pred"
   ]
  },
  {
   "cell_type": "code",
   "execution_count": 82,
   "id": "6117d599",
   "metadata": {},
   "outputs": [],
   "source": [
    "xgb_pred = np.array([number[0] for number in lb.fit_transform(xgb_pred)])\n",
    "y_test = np.array([number[0] for number in lb.fit_transform(y_test)])"
   ]
  },
  {
   "cell_type": "code",
   "execution_count": 83,
   "id": "197c4f08",
   "metadata": {},
   "outputs": [
    {
     "name": "stdout",
     "output_type": "stream",
     "text": [
      "          pred:0  pred:1\n",
      "actual:0    1163      37\n",
      "actual:1      57     343\n"
     ]
    }
   ],
   "source": [
    "cmtx = pd.DataFrame(\n",
    "    confusion_matrix(y_test, xgb_pred), \n",
    "    index=['actual:0', 'actual:1'], \n",
    "    columns=['pred:0', 'pred:1']\n",
    ")\n",
    "print(cmtx)"
   ]
  },
  {
   "cell_type": "code",
   "execution_count": 84,
   "id": "2e33ca9c",
   "metadata": {},
   "outputs": [
    {
     "name": "stdout",
     "output_type": "stream",
     "text": [
      "Accuracy is 0.94\n",
      "Precision is 0.90\n",
      "Recall is 0.86\n",
      "f1Score is 0.88\n"
     ]
    }
   ],
   "source": [
    "print(f\"Accuracy is {accuracy_score(y_test, xgb_pred):.2f}\")\n",
    "print(f\"Precision is {precision_score(y_test, xgb_pred):.2f}\")\n",
    "print(f\"Recall is {recall_score(y_test, xgb_pred):.2f}\")\n",
    "print(f\"f1Score is {f1_score(y_test, xgb_pred):.2f}\")"
   ]
  },
  {
   "cell_type": "code",
   "execution_count": 85,
   "id": "1c374480",
   "metadata": {},
   "outputs": [
    {
     "data": {
      "image/png": "[encoded data removed]",
      "text/plain": [
       "<Figure size 720x432 with 1 Axes>"
      ]
     },
     "metadata": {
      "needs_background": "light"
     },
     "output_type": "display_data"
    }
   ],
   "source": [
    "feature_names = X_train.columns\n",
    "feature_imports = xgb_model.feature_importances_\n",
    "most_imp_features = pd.DataFrame([f for f in zip(feature_names,feature_imports)], columns=[\"Feature\", \"Importance\"]).nlargest(10, \"Importance\")\n",
    "most_imp_features.sort_values(by=\"Importance\", inplace=True)\n",
    "plt.figure(figsize=(10,6))\n",
    "plt.barh(range(len(most_imp_features)), most_imp_features.Importance, align='center', alpha=0.8)\n",
    "plt.yticks(range(len(most_imp_features)), most_imp_features.Feature, fontsize=14)\n",
    "plt.xlabel('Importancia')\n",
    "plt.title('Features mas importantes - XGB Classifier ')\n",
    "plt.show()"
   ]
  },
  {
   "cell_type": "code",
   "execution_count": 116,
   "id": "04f34d0f",
   "metadata": {},
   "outputs": [],
   "source": [
    "lambd = [0.01,0.05,0.1,0.2,0.3,0.5,0.7,1]\n",
    "max_depth=[5,10,20,30]\n",
    "n_estimators=[50,100,200,300]\n",
    "random_grid = {'n_estimators': n_estimators,\n",
    "               'max_depth': max_depth,\n",
    "               'lambda':lambd}"
   ]
  },
  {
   "cell_type": "code",
   "execution_count": 117,
   "id": "1b3803d0",
   "metadata": {},
   "outputs": [],
   "source": [
    "xgboost = xgb.XGBClassifier()"
   ]
  },
  {
   "cell_type": "code",
   "execution_count": 118,
   "id": "51c7df16",
   "metadata": {},
   "outputs": [],
   "source": [
    "xgb_random = RandomizedSearchCV(estimator = xgboost, param_distributions = random_grid, n_iter = 25, cv = 3, verbose=2, random_state=42, n_jobs = -1)\n",
    "\n"
   ]
  },
  {
   "cell_type": "code",
   "execution_count": 128,
   "id": "19d5215d",
   "metadata": {},
   "outputs": [
    {
     "data": {
      "text/plain": [
       "6400"
      ]
     },
     "execution_count": 128,
     "metadata": {},
     "output_type": "execute_result"
    }
   ],
   "source": [
    "len(data_prepared)"
   ]
  },
  {
   "cell_type": "code",
   "execution_count": 130,
   "id": "c8bdb13b",
   "metadata": {},
   "outputs": [
    {
     "name": "stdout",
     "output_type": "stream",
     "text": [
      "Fitting 3 folds for each of 25 candidates, totalling 75 fits\n",
      "[11:56:16] WARNING: /Users/runner/work/xgboost/xgboost/src/learner.cc:1115: Starting in XGBoost 1.3.0, the default evaluation metric used with the objective 'binary:logistic' was changed from 'error' to 'logloss'. Explicitly set eval_metric if you'd like to restore the old behavior.\n"
     ]
    },
    {
     "data": {
      "text/plain": [
       "RandomizedSearchCV(cv=3,\n",
       "                   estimator=XGBClassifier(base_score=None, booster=None,\n",
       "                                           colsample_bylevel=None,\n",
       "                                           colsample_bynode=None,\n",
       "                                           colsample_bytree=None,\n",
       "                                           enable_categorical=False, gamma=None,\n",
       "                                           gpu_id=None, importance_type=None,\n",
       "                                           interaction_constraints=None,\n",
       "                                           learning_rate=None,\n",
       "                                           max_delta_step=None, max_depth=None,\n",
       "                                           min_child_weight=None, missing=nan,\n",
       "                                           monotone_constraints...\n",
       "                                           num_parallel_tree=None,\n",
       "                                           predictor=None, random_state=None,\n",
       "                                           reg_alpha=None, reg_lambda=None,\n",
       "                                           scale_pos_weight=None,\n",
       "                                           subsample=None, tree_method=None,\n",
       "                                           validate_parameters=None,\n",
       "                                           verbosity=None),\n",
       "                   n_iter=25, n_jobs=-1,\n",
       "                   param_distributions={'lambda': [0.01, 0.05, 0.1, 0.2, 0.3,\n",
       "                                                   0.5, 0.7, 1],\n",
       "                                        'max_depth': [5, 10, 20, 30],\n",
       "                                        'n_estimators': [50, 100, 200, 300]},\n",
       "                   random_state=42, verbose=2)"
      ]
     },
     "execution_count": 130,
     "metadata": {},
     "output_type": "execute_result"
    }
   ],
   "source": [
    "xgb_random.fit(data_prepared, y_train)"
   ]
  },
  {
   "cell_type": "code",
   "execution_count": 131,
   "id": "4e6f6270",
   "metadata": {},
   "outputs": [
    {
     "data": {
      "text/plain": [
       "{'n_estimators': 50, 'max_depth': 5, 'lambda': 0.7}"
      ]
     },
     "execution_count": 131,
     "metadata": {},
     "output_type": "execute_result"
    }
   ],
   "source": [
    "xgb_random.best_params_"
   ]
  },
  {
   "cell_type": "code",
   "execution_count": 132,
   "id": "df6c6515",
   "metadata": {},
   "outputs": [],
   "source": [
    "xgb_best=xgb_random.best_estimator_"
   ]
  },
  {
   "cell_type": "code",
   "execution_count": 133,
   "id": "730819b2",
   "metadata": {},
   "outputs": [],
   "source": [
    "xgb_prd = xgb_best.predict(test_prepared)"
   ]
  },
  {
   "cell_type": "code",
   "execution_count": 134,
   "id": "4f4b2edb",
   "metadata": {},
   "outputs": [],
   "source": [
    "xgb_prd = np.array([number[0] for number in lb.fit_transform(xgb_prd)])\n",
    "y_test = np.array([number[0] for number in lb.fit_transform(y_test)])"
   ]
  },
  {
   "cell_type": "code",
   "execution_count": 135,
   "id": "78c8c0ee",
   "metadata": {},
   "outputs": [
    {
     "name": "stdout",
     "output_type": "stream",
     "text": [
      "          pred:0  pred:1\n",
      "actual:0    1166      34\n",
      "actual:1      45     355\n"
     ]
    }
   ],
   "source": [
    "cmtx = pd.DataFrame(\n",
    "    confusion_matrix(y_test, xgb_prd), \n",
    "    index=['actual:0', 'actual:1'], \n",
    "    columns=['pred:0', 'pred:1']\n",
    ")\n",
    "print(cmtx)"
   ]
  },
  {
   "cell_type": "code",
   "execution_count": 136,
   "id": "71701860",
   "metadata": {},
   "outputs": [
    {
     "name": "stdout",
     "output_type": "stream",
     "text": [
      "Accuracy is 0.95\n",
      "Precision is 0.91\n",
      "Recall is 0.89\n",
      "f1Score is 0.90\n"
     ]
    }
   ],
   "source": [
    "print(f\"Accuracy is {accuracy_score(y_test, xgb_prd):.2f}\")\n",
    "print(f\"Precision is {precision_score(y_test, xgb_prd):.2f}\")\n",
    "print(f\"Recall is {recall_score(y_test, xgb_prd):.2f}\")\n",
    "print(f\"f1Score is {f1_score(y_test, xgb_prd):.2f}\")"
   ]
  },
  {
   "cell_type": "code",
   "execution_count": 137,
   "id": "927f5b58",
   "metadata": {},
   "outputs": [
    {
     "data": {
      "image/png": "[encoded data removed]",
      "text/plain": [
       "<Figure size 720x432 with 1 Axes>"
      ]
     },
     "metadata": {
      "needs_background": "light"
     },
     "output_type": "display_data"
    }
   ],
   "source": [
    "feature_names = X_train.columns\n",
    "feature_imports = xgb_model.feature_importances_\n",
    "most_imp_features = pd.DataFrame([f for f in zip(feature_names,feature_imports)], columns=[\"Feature\", \"Importance\"]).nlargest(10, \"Importance\")\n",
    "most_imp_features.sort_values(by=\"Importance\", inplace=True)\n",
    "plt.figure(figsize=(10,6))\n",
    "plt.barh(range(len(most_imp_features)), most_imp_features.Importance, align='center', alpha=0.8)\n",
    "plt.yticks(range(len(most_imp_features)), most_imp_features.Feature, fontsize=14)\n",
    "plt.xlabel('Importancia')\n",
    "plt.title('Features mas importantes - XGB Classifier ')\n",
    "plt.show()"
   ]
  },
  {
   "cell_type": "markdown",
   "id": "8c09dcde",
   "metadata": {},
   "source": [
    "## Recomendaciones"
   ]
  },
  {
   "cell_type": "markdown",
   "id": "bd056736",
   "metadata": {},
   "source": [
    "-\tIncrementar el numero de promociones para aquellos empleados con mejor rendimiento\n",
    "\n",
    "-\tPromover proyectos mas desafiantes para los empleados que tienen un excelente rendimiento en la evaluacion, ya que estos suelen irse de la empresa por estar sobrecalificados para sus actuales tareas.\n",
    "\n",
    "-\tPromover politicas que mejoren el nivel de satisfaccion de los empleados, ya que este es un factor determinante en el resultado. Alentar a tomar proyectos mas atractivos a los empleados que muestran un nivel de satisfaccion por debajo de la media\n"
   ]
  },
  {
   "cell_type": "markdown",
   "id": "1cd2fd12",
   "metadata": {},
   "source": [
    "#### Preparing the submission file"
   ]
  },
  {
   "cell_type": "code",
   "execution_count": 216,
   "id": "d6984a81",
   "metadata": {},
   "outputs": [
    {
     "data": {
      "text/html": [
       "<div>\n",
       "<style scoped>\n",
       "    .dataframe tbody tr th:only-of-type {\n",
       "        vertical-align: middle;\n",
       "    }\n",
       "\n",
       "    .dataframe tbody tr th {\n",
       "        vertical-align: top;\n",
       "    }\n",
       "\n",
       "    .dataframe thead th {\n",
       "        text-align: right;\n",
       "    }\n",
       "</style>\n",
       "<table border=\"1\" class=\"dataframe\">\n",
       "  <thead>\n",
       "    <tr style=\"text-align: right;\">\n",
       "      <th></th>\n",
       "      <th>ID</th>\n",
       "      <th>se_fue</th>\n",
       "    </tr>\n",
       "  </thead>\n",
       "  <tbody>\n",
       "    <tr>\n",
       "      <th>0</th>\n",
       "      <td>2.0</td>\n",
       "      <td>NaN</td>\n",
       "    </tr>\n",
       "    <tr>\n",
       "      <th>1</th>\n",
       "      <td>4.0</td>\n",
       "      <td>NaN</td>\n",
       "    </tr>\n",
       "    <tr>\n",
       "      <th>2</th>\n",
       "      <td>9.0</td>\n",
       "      <td>NaN</td>\n",
       "    </tr>\n",
       "    <tr>\n",
       "      <th>3</th>\n",
       "      <td>14.0</td>\n",
       "      <td>NaN</td>\n",
       "    </tr>\n",
       "    <tr>\n",
       "      <th>4</th>\n",
       "      <td>15.0</td>\n",
       "      <td>NaN</td>\n",
       "    </tr>\n",
       "  </tbody>\n",
       "</table>\n",
       "</div>"
      ],
      "text/plain": [
       "     ID  se_fue\n",
       "0   2.0     NaN\n",
       "1   4.0     NaN\n",
       "2   9.0     NaN\n",
       "3  14.0     NaN\n",
       "4  15.0     NaN"
      ]
     },
     "execution_count": 216,
     "metadata": {},
     "output_type": "execute_result"
    }
   ],
   "source": [
    "sub = pd.read_csv('submission.csv')\n",
    "sub.head()"
   ]
  },
  {
   "cell_type": "code",
   "execution_count": 217,
   "id": "4b163a4c",
   "metadata": {
    "scrolled": true
   },
   "outputs": [],
   "source": [
    "df_test = pd.read_csv('test.csv')"
   ]
  },
  {
   "cell_type": "code",
   "execution_count": 218,
   "id": "cb407367",
   "metadata": {},
   "outputs": [
    {
     "data": {
      "text/html": [
       "<div>\n",
       "<style scoped>\n",
       "    .dataframe tbody tr th:only-of-type {\n",
       "        vertical-align: middle;\n",
       "    }\n",
       "\n",
       "    .dataframe tbody tr th {\n",
       "        vertical-align: top;\n",
       "    }\n",
       "\n",
       "    .dataframe thead th {\n",
       "        text-align: right;\n",
       "    }\n",
       "</style>\n",
       "<table border=\"1\" class=\"dataframe\">\n",
       "  <thead>\n",
       "    <tr style=\"text-align: right;\">\n",
       "      <th></th>\n",
       "      <th>nivel_de_satisfaccion</th>\n",
       "      <th>ultima_evaluacion</th>\n",
       "      <th>cantidad_proyectos</th>\n",
       "      <th>promedio_horas_mensuales_trabajadas</th>\n",
       "      <th>años_en_la_empresa</th>\n",
       "      <th>tuvo_un_accidente_laboral</th>\n",
       "      <th>promociones_ultimos_5_anios</th>\n",
       "      <th>area</th>\n",
       "      <th>salario</th>\n",
       "    </tr>\n",
       "  </thead>\n",
       "  <tbody>\n",
       "    <tr>\n",
       "      <th>0</th>\n",
       "      <td>0.40</td>\n",
       "      <td>0.57</td>\n",
       "      <td>2</td>\n",
       "      <td>152</td>\n",
       "      <td>3</td>\n",
       "      <td>0</td>\n",
       "      <td>0</td>\n",
       "      <td>ventas</td>\n",
       "      <td>bajo</td>\n",
       "    </tr>\n",
       "    <tr>\n",
       "      <th>1</th>\n",
       "      <td>0.54</td>\n",
       "      <td>0.52</td>\n",
       "      <td>3</td>\n",
       "      <td>115</td>\n",
       "      <td>3</td>\n",
       "      <td>0</td>\n",
       "      <td>0</td>\n",
       "      <td>contabilidad</td>\n",
       "      <td>bajo</td>\n",
       "    </tr>\n",
       "    <tr>\n",
       "      <th>2</th>\n",
       "      <td>0.72</td>\n",
       "      <td>0.87</td>\n",
       "      <td>5</td>\n",
       "      <td>223</td>\n",
       "      <td>5</td>\n",
       "      <td>0</td>\n",
       "      <td>0</td>\n",
       "      <td>ventas</td>\n",
       "      <td>bajo</td>\n",
       "    </tr>\n",
       "    <tr>\n",
       "      <th>3</th>\n",
       "      <td>0.65</td>\n",
       "      <td>0.67</td>\n",
       "      <td>3</td>\n",
       "      <td>245</td>\n",
       "      <td>3</td>\n",
       "      <td>0</td>\n",
       "      <td>0</td>\n",
       "      <td>ventas</td>\n",
       "      <td>medio</td>\n",
       "    </tr>\n",
       "    <tr>\n",
       "      <th>4</th>\n",
       "      <td>0.54</td>\n",
       "      <td>0.95</td>\n",
       "      <td>4</td>\n",
       "      <td>256</td>\n",
       "      <td>3</td>\n",
       "      <td>0</td>\n",
       "      <td>0</td>\n",
       "      <td>soporte</td>\n",
       "      <td>bajo</td>\n",
       "    </tr>\n",
       "  </tbody>\n",
       "</table>\n",
       "</div>"
      ],
      "text/plain": [
       "   nivel_de_satisfaccion  ultima_evaluacion  cantidad_proyectos  \\\n",
       "0                   0.40               0.57                   2   \n",
       "1                   0.54               0.52                   3   \n",
       "2                   0.72               0.87                   5   \n",
       "3                   0.65               0.67                   3   \n",
       "4                   0.54               0.95                   4   \n",
       "\n",
       "   promedio_horas_mensuales_trabajadas  años_en_la_empresa  \\\n",
       "0                                  152                   3   \n",
       "1                                  115                   3   \n",
       "2                                  223                   5   \n",
       "3                                  245                   3   \n",
       "4                                  256                   3   \n",
       "\n",
       "   tuvo_un_accidente_laboral  promociones_ultimos_5_anios          area  \\\n",
       "0                          0                            0        ventas   \n",
       "1                          0                            0  contabilidad   \n",
       "2                          0                            0        ventas   \n",
       "3                          0                            0        ventas   \n",
       "4                          0                            0       soporte   \n",
       "\n",
       "  salario  \n",
       "0    bajo  \n",
       "1    bajo  \n",
       "2    bajo  \n",
       "3   medio  \n",
       "4    bajo  "
      ]
     },
     "execution_count": 218,
     "metadata": {},
     "output_type": "execute_result"
    }
   ],
   "source": [
    "y = df_test['se_fue']\n",
    "df_test.drop(columns=['ID','se_fue'],inplace=True)\n",
    "df_test.head()"
   ]
  },
  {
   "cell_type": "code",
   "execution_count": 219,
   "id": "2f93a18d",
   "metadata": {},
   "outputs": [],
   "source": [
    "test_data_prepared = preprocessor.fit_transform(df_test)"
   ]
  },
  {
   "cell_type": "code",
   "execution_count": 220,
   "id": "9b7d4af5",
   "metadata": {},
   "outputs": [
    {
     "data": {
      "text/plain": [
       "2000"
      ]
     },
     "execution_count": 220,
     "metadata": {},
     "output_type": "execute_result"
    }
   ],
   "source": [
    "len(test_data_prepared)"
   ]
  },
  {
   "cell_type": "code",
   "execution_count": 221,
   "id": "4ec8942b",
   "metadata": {},
   "outputs": [],
   "source": [
    "xgb_prd = xgb_best.predict(test_data_prepared)"
   ]
  },
  {
   "cell_type": "code",
   "execution_count": 222,
   "id": "3572378e",
   "metadata": {},
   "outputs": [
    {
     "data": {
      "text/plain": [
       "Counter({'si': 448, 'no': 1552})"
      ]
     },
     "execution_count": 222,
     "metadata": {},
     "output_type": "execute_result"
    }
   ],
   "source": [
    "Counter(xgb_prd)"
   ]
  },
  {
   "cell_type": "code",
   "execution_count": 223,
   "id": "d5593ce2",
   "metadata": {},
   "outputs": [],
   "source": [
    "#predicted\n",
    "se_fue = pd.Series(xgb_prd,name='se_fue')"
   ]
  },
  {
   "cell_type": "code",
   "execution_count": 224,
   "id": "e573672c",
   "metadata": {},
   "outputs": [],
   "source": [
    "df_test = pd.read_csv('test.csv')\n",
    "ID = df_test.ID"
   ]
  },
  {
   "cell_type": "code",
   "execution_count": 225,
   "id": "9579e3ed",
   "metadata": {},
   "outputs": [
    {
     "data": {
      "text/html": [
       "<div>\n",
       "<style scoped>\n",
       "    .dataframe tbody tr th:only-of-type {\n",
       "        vertical-align: middle;\n",
       "    }\n",
       "\n",
       "    .dataframe tbody tr th {\n",
       "        vertical-align: top;\n",
       "    }\n",
       "\n",
       "    .dataframe thead th {\n",
       "        text-align: right;\n",
       "    }\n",
       "</style>\n",
       "<table border=\"1\" class=\"dataframe\">\n",
       "  <thead>\n",
       "    <tr style=\"text-align: right;\">\n",
       "      <th></th>\n",
       "      <th>ID</th>\n",
       "      <th>se_fue</th>\n",
       "    </tr>\n",
       "  </thead>\n",
       "  <tbody>\n",
       "    <tr>\n",
       "      <th>0</th>\n",
       "      <td>2.0</td>\n",
       "      <td>si</td>\n",
       "    </tr>\n",
       "    <tr>\n",
       "      <th>1</th>\n",
       "      <td>4.0</td>\n",
       "      <td>no</td>\n",
       "    </tr>\n",
       "    <tr>\n",
       "      <th>2</th>\n",
       "      <td>9.0</td>\n",
       "      <td>si</td>\n",
       "    </tr>\n",
       "    <tr>\n",
       "      <th>3</th>\n",
       "      <td>14.0</td>\n",
       "      <td>no</td>\n",
       "    </tr>\n",
       "    <tr>\n",
       "      <th>4</th>\n",
       "      <td>15.0</td>\n",
       "      <td>no</td>\n",
       "    </tr>\n",
       "  </tbody>\n",
       "</table>\n",
       "</div>"
      ],
      "text/plain": [
       "     ID se_fue\n",
       "0   2.0     si\n",
       "1   4.0     no\n",
       "2   9.0     si\n",
       "3  14.0     no\n",
       "4  15.0     no"
      ]
     },
     "execution_count": 225,
     "metadata": {},
     "output_type": "execute_result"
    }
   ],
   "source": [
    "result = pd.concat([ID, se_fue], axis=1)\n",
    "result.head()"
   ]
  },
  {
   "cell_type": "code",
   "execution_count": 214,
   "id": "14d5a8ab",
   "metadata": {},
   "outputs": [],
   "source": [
    "result.to_csv('my_submission.csv', sep=',', encoding='utf-8',index=False)"
   ]
  }
 ],
 "metadata": {
  "kernelspec": {
   "display_name": "Python 3",
   "language": "python",
   "name": "python3"
  },
  "language_info": {
   "codemirror_mode": {
    "name": "ipython",
    "version": 3
   },
   "file_extension": ".py",
   "mimetype": "text/x-python",
   "name": "python",
   "nbconvert_exporter": "python",
   "pygments_lexer": "ipython3",
   "version": "3.8.8"
  }
 },
 "nbformat": 4,
 "nbformat_minor": 5
}
